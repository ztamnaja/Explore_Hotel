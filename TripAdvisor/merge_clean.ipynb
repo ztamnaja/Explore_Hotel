{
 "cells": [
  {
   "cell_type": "markdown",
   "metadata": {},
   "source": [
    "### Clean Data From Webscraper"
   ]
  },
  {
   "cell_type": "code",
   "execution_count": 394,
   "metadata": {},
   "outputs": [],
   "source": [
    "count_row = 0"
   ]
  },
  {
   "cell_type": "code",
   "execution_count": 395,
   "metadata": {},
   "outputs": [],
   "source": [
    "import pandas as pd\n",
    "import numpy as np\n",
    "\n",
    "def rate_prep(x: str):\n",
    "  if isinstance(x, int):\n",
    "    return str(x)\n",
    "  if not isinstance(x, str):\n",
    "    return None\n",
    " \n",
    "  return x.split('ui_bubble_rating bubble_')[1]\n",
    "\n",
    "def stay_prep(x: str):\n",
    "  if not isinstance(x, str):\n",
    "    return None\n",
    "  return x.split(':')[1].strip()\n",
    "\n",
    "def triptype_prep(x: str):\n",
    "  if not isinstance(x, str):\n",
    "    return None\n",
    "  return x.split(':')[1].strip()\n",
    "\n",
    "def review_prep(x: str):\n",
    "  if not isinstance(x, str):\n",
    "    return None\n",
    "  return x.replace('\\n','').strip()\n",
    "\n",
    "def review_origin(x: str):\n",
    "  if not isinstance(x, str) or x=='1 contribution':\n",
    "    return None\n",
    "  \n",
    "  return x.split(' contributions')[0].rstrip('0123456789')\n",
    "\n",
    "def review_date_prep(x):\n",
    "  if not isinstance(x, str):\n",
    "    return None\n",
    "  \n",
    "  if x == 'Yesterday':\n",
    "    return 'Oct 12'\n",
    "  return x\n",
    "\n",
    "\n",
    "def main_clean(df):\n",
    "  df['rate'] = df['rate'].apply(rate_prep)\n",
    "  df['rate'] = df['rate'].astype(int) /10\n",
    "  df['rate'] = df['rate'].astype(int)\n",
    "  \n",
    "  df['stay_date'] = df['stay_date'].apply(stay_prep)\n",
    "  df['trip_type'] = df['trip_type'].apply(triptype_prep)\n",
    "  df['review'] = df['review'].apply(review_prep)\n",
    "  df['origin'] = df['origin'].apply(review_origin)\n",
    "  df[['stay_month', 'stay_year']] = df['stay_date'].str.split(' ', 1, expand=True)\n",
    "  return df"
   ]
  },
  {
   "cell_type": "code",
   "execution_count": 396,
   "metadata": {},
   "outputs": [],
   "source": [
    "STANDARD_COLUMNS = {\n",
    "  'rating':'rate', \n",
    "  'title':'topic', \n",
    "  'stay':'stay_date', \n",
    "  'triptype':'trip_type', \n",
    "  'web-scraper-order':'reviewid', \n",
    "}\n"
   ]
  },
  {
   "cell_type": "code",
   "execution_count": 397,
   "metadata": {},
   "outputs": [
    {
     "name": "stdout",
     "output_type": "stream",
     "text": [
      "all files:  ['hawaii_webspider1.csv', 'hawaii_webspider2.csv', 'hawaii_webspider3.csv', 'hawaii_webspider5.csv', 'hawaii_webspider_21_25.csv'] \n",
      "total files: 5\n"
     ]
    }
   ],
   "source": [
    "# check all files\n",
    "from pathlib import Path \n",
    "path = Path(r\"E:\\DSC\\BA\\assignment_hotel\\TripAdvisor\\rawdata\")\n",
    "fileNames = [file.name for file in path.iterdir() if file.name.startswith('hawaii_') & file.name.endswith('.csv')] \n",
    "print('all files: ', fileNames,'\\ntotal files:', len(fileNames))"
   ]
  },
  {
   "cell_type": "code",
   "execution_count": 398,
   "metadata": {},
   "outputs": [
    {
     "data": {
      "text/plain": [
       "9217"
      ]
     },
     "execution_count": 398,
     "metadata": {},
     "output_type": "execute_result"
    }
   ],
   "source": [
    "all_df = []\n",
    "for file in fileNames:\n",
    "  df = pd.read_csv(f\"{path}/{file}\")\n",
    "  count_row += len(df)\n",
    "  all_df.append(df)\n",
    "concat_df = pd.concat(all_df, ignore_index=True, sort=False)\n",
    "len(concat_df)"
   ]
  },
  {
   "cell_type": "code",
   "execution_count": 399,
   "metadata": {},
   "outputs": [
    {
     "data": {
      "text/html": [
       "<div>\n",
       "<style scoped>\n",
       "    .dataframe tbody tr th:only-of-type {\n",
       "        vertical-align: middle;\n",
       "    }\n",
       "\n",
       "    .dataframe tbody tr th {\n",
       "        vertical-align: top;\n",
       "    }\n",
       "\n",
       "    .dataframe thead th {\n",
       "        text-align: right;\n",
       "    }\n",
       "</style>\n",
       "<table border=\"1\" class=\"dataframe\">\n",
       "  <thead>\n",
       "    <tr style=\"text-align: right;\">\n",
       "      <th></th>\n",
       "      <th>web-scraper-order</th>\n",
       "      <th>web-scraper-start-url</th>\n",
       "      <th>name</th>\n",
       "      <th>origin</th>\n",
       "      <th>topic</th>\n",
       "      <th>review</th>\n",
       "      <th>stay</th>\n",
       "      <th>triptype</th>\n",
       "      <th>rate</th>\n",
       "    </tr>\n",
       "  </thead>\n",
       "  <tbody>\n",
       "    <tr>\n",
       "      <th>9216</th>\n",
       "      <td>1665503434-793</td>\n",
       "      <td>https://www.tripadvisor.com/Hotel_Review-g6062...</td>\n",
       "      <td>Frank M</td>\n",
       "      <td>Manhattan Beach, California101 contributions79...</td>\n",
       "      <td>Beautiful, relaxing, great people Mahalo!</td>\n",
       "      <td>The Timbers is a brand new resort in Kauai, an...</td>\n",
       "      <td>Date of stay: July 2018</td>\n",
       "      <td>Trip type: Traveled as a couple</td>\n",
       "      <td>ui_bubble_rating bubble_50</td>\n",
       "    </tr>\n",
       "  </tbody>\n",
       "</table>\n",
       "</div>"
      ],
      "text/plain": [
       "     web-scraper-order                              web-scraper-start-url  \\\n",
       "9216    1665503434-793  https://www.tripadvisor.com/Hotel_Review-g6062...   \n",
       "\n",
       "         name                                             origin  \\\n",
       "9216  Frank M  Manhattan Beach, California101 contributions79...   \n",
       "\n",
       "                                          topic  \\\n",
       "9216  Beautiful, relaxing, great people Mahalo!   \n",
       "\n",
       "                                                 review  \\\n",
       "9216  The Timbers is a brand new resort in Kauai, an...   \n",
       "\n",
       "                         stay                         triptype  \\\n",
       "9216  Date of stay: July 2018  Trip type: Traveled as a couple   \n",
       "\n",
       "                            rate  \n",
       "9216  ui_bubble_rating bubble_50  "
      ]
     },
     "execution_count": 399,
     "metadata": {},
     "output_type": "execute_result"
    }
   ],
   "source": [
    "concat_df.tail(1)"
   ]
  },
  {
   "cell_type": "code",
   "execution_count": 400,
   "metadata": {},
   "outputs": [],
   "source": [
    "concat_df.rename(columns = STANDARD_COLUMNS, inplace = True)\n",
    "clean_df = main_clean(concat_df)"
   ]
  },
  {
   "cell_type": "code",
   "execution_count": 401,
   "metadata": {},
   "outputs": [
    {
     "data": {
      "text/html": [
       "<div>\n",
       "<style scoped>\n",
       "    .dataframe tbody tr th:only-of-type {\n",
       "        vertical-align: middle;\n",
       "    }\n",
       "\n",
       "    .dataframe tbody tr th {\n",
       "        vertical-align: top;\n",
       "    }\n",
       "\n",
       "    .dataframe thead th {\n",
       "        text-align: right;\n",
       "    }\n",
       "</style>\n",
       "<table border=\"1\" class=\"dataframe\">\n",
       "  <thead>\n",
       "    <tr style=\"text-align: right;\">\n",
       "      <th></th>\n",
       "      <th>reviewid</th>\n",
       "      <th>web-scraper-start-url</th>\n",
       "      <th>name</th>\n",
       "      <th>origin</th>\n",
       "      <th>topic</th>\n",
       "      <th>review</th>\n",
       "      <th>stay_date</th>\n",
       "      <th>trip_type</th>\n",
       "      <th>rate</th>\n",
       "      <th>stay_month</th>\n",
       "      <th>stay_year</th>\n",
       "    </tr>\n",
       "  </thead>\n",
       "  <tbody>\n",
       "    <tr>\n",
       "      <th>0</th>\n",
       "      <td>1665326404-85</td>\n",
       "      <td>https://www.tripadvisor.com/Hotel_Review-g6098...</td>\n",
       "      <td>Javier G</td>\n",
       "      <td>Santo Domingo, Dominican Republic1 contribution</td>\n",
       "      <td>Great Hotel for Honeymooners</td>\n",
       "      <td>The hotel was great with outstanding service f...</td>\n",
       "      <td>September 2022</td>\n",
       "      <td>Traveled as a couple</td>\n",
       "      <td>5</td>\n",
       "      <td>September</td>\n",
       "      <td>2022</td>\n",
       "    </tr>\n",
       "  </tbody>\n",
       "</table>\n",
       "</div>"
      ],
      "text/plain": [
       "        reviewid                              web-scraper-start-url      name  \\\n",
       "0  1665326404-85  https://www.tripadvisor.com/Hotel_Review-g6098...  Javier G   \n",
       "\n",
       "                                            origin  \\\n",
       "0  Santo Domingo, Dominican Republic1 contribution   \n",
       "\n",
       "                          topic  \\\n",
       "0  Great Hotel for Honeymooners   \n",
       "\n",
       "                                              review       stay_date  \\\n",
       "0  The hotel was great with outstanding service f...  September 2022   \n",
       "\n",
       "              trip_type  rate stay_month stay_year  \n",
       "0  Traveled as a couple     5  September      2022  "
      ]
     },
     "execution_count": 401,
     "metadata": {},
     "output_type": "execute_result"
    }
   ],
   "source": [
    "clean_df.head(1)"
   ]
  },
  {
   "cell_type": "markdown",
   "metadata": {},
   "source": [
    "### Clean Data from Selenuim"
   ]
  },
  {
   "cell_type": "code",
   "execution_count": 402,
   "metadata": {},
   "outputs": [
    {
     "name": "stdout",
     "output_type": "stream",
     "text": [
      "all files:  ['Hawaii_11.csv', 'Hawaii_12.csv', 'Hawaii_13.csv', 'Hawaii_14.csv', 'Hawaii_15.csv', 'Hawaii_16.csv', 'Hawaii_17.csv', 'Hawaii_18.csv', 'Hawaii_19.csv', 'Hawaii_20.csv', 'Hawaii_4.csv', 'Hawaii_6.csv', 'Hawaii_7.csv', 'Hawaii_8.csv', 'Hawaii_87399.csv', 'Hawaii_9.csv'] \n",
      "total files: 16\n"
     ]
    }
   ],
   "source": [
    "# check all files\n",
    "from pathlib import Path \n",
    "path = Path(r\"E:\\DSC\\BA\\assignment_hotel\\TripAdvisor\\rawdata\")\n",
    "fileNames = [file.name for file in path.iterdir() if file.name.startswith('Hawaii_') & file.name.endswith('.csv')] \n",
    "print('all files: ', fileNames,'\\ntotal files:', len(fileNames))"
   ]
  },
  {
   "cell_type": "code",
   "execution_count": 403,
   "metadata": {},
   "outputs": [],
   "source": [
    "# test_df = pd.read_csv(f\"{path}/{fileNames[0]}\")\n",
    "# test_df_clean = main_clean(test_df)\n",
    "# test_df_clean"
   ]
  },
  {
   "cell_type": "code",
   "execution_count": 404,
   "metadata": {},
   "outputs": [
    {
     "data": {
      "text/plain": [
       "56622"
      ]
     },
     "execution_count": 404,
     "metadata": {},
     "output_type": "execute_result"
    }
   ],
   "source": [
    "all_df = []\n",
    "for file in fileNames:\n",
    "  df = pd.read_csv(f\"{path}/{file}\")\n",
    "  count_row += len(df)\n",
    "  \n",
    "  all_df.append(df)\n",
    "\n",
    "concat_df_sele = pd.concat(all_df, ignore_index=True, sort=False)\n",
    "len(concat_df_sele)"
   ]
  },
  {
   "cell_type": "code",
   "execution_count": 405,
   "metadata": {},
   "outputs": [],
   "source": [
    "def main_clean_sele(df):\n",
    "  # df['rate'] = df['rate'].apply(rate_prep)\n",
    "  df['rate'] = df['rate'].astype(int) / 10\n",
    "  df['rate'] = df['rate'].astype(int)\n",
    "  # df['stay_date'] = df['stay_date'].apply(stay_prep)\n",
    "  # df['trip_type'] = df['trip_type'].apply(triptype_prep)\n",
    "  df['review'] = df['review'].apply(review_prep)\n",
    "  df['review_date'] = df['review_date'].apply(review_date_prep)\n",
    "  # df['origin'] = df['origin'].apply(review_origin)\n",
    "  df[['stay_month', 'stay_year']] = df['stay_date'].str.split(' ', 1, expand=True)\n",
    "  return df"
   ]
  },
  {
   "cell_type": "code",
   "execution_count": 406,
   "metadata": {},
   "outputs": [],
   "source": [
    "concat_df_sele.rename(columns = STANDARD_COLUMNS, inplace = True)"
   ]
  },
  {
   "cell_type": "code",
   "execution_count": 407,
   "metadata": {},
   "outputs": [
    {
     "name": "stdout",
     "output_type": "stream",
     "text": [
      "<class 'pandas.core.frame.DataFrame'>\n",
      "RangeIndex: 56622 entries, 0 to 56621\n",
      "Data columns (total 9 columns):\n",
      " #   Column       Non-Null Count  Dtype \n",
      "---  ------       --------------  ----- \n",
      " 0   reviewid     56622 non-null  int64 \n",
      " 1   rate         56622 non-null  int64 \n",
      " 2   topic        56619 non-null  object\n",
      " 3   review       56622 non-null  object\n",
      " 4   review_date  56622 non-null  object\n",
      " 5   stay_date    55711 non-null  object\n",
      " 6   trip_type    47822 non-null  object\n",
      " 7   room_tip     12015 non-null  object\n",
      " 8   origin       49557 non-null  object\n",
      "dtypes: int64(2), object(7)\n",
      "memory usage: 3.9+ MB\n"
     ]
    }
   ],
   "source": [
    "concat_df_sele.info()"
   ]
  },
  {
   "cell_type": "code",
   "execution_count": 408,
   "metadata": {},
   "outputs": [
    {
     "data": {
      "text/html": [
       "<div>\n",
       "<style scoped>\n",
       "    .dataframe tbody tr th:only-of-type {\n",
       "        vertical-align: middle;\n",
       "    }\n",
       "\n",
       "    .dataframe tbody tr th {\n",
       "        vertical-align: top;\n",
       "    }\n",
       "\n",
       "    .dataframe thead th {\n",
       "        text-align: right;\n",
       "    }\n",
       "</style>\n",
       "<table border=\"1\" class=\"dataframe\">\n",
       "  <thead>\n",
       "    <tr style=\"text-align: right;\">\n",
       "      <th></th>\n",
       "      <th>reviewid</th>\n",
       "      <th>rate</th>\n",
       "      <th>topic</th>\n",
       "      <th>review</th>\n",
       "      <th>review_date</th>\n",
       "      <th>stay_date</th>\n",
       "      <th>trip_type</th>\n",
       "      <th>room_tip</th>\n",
       "      <th>origin</th>\n",
       "    </tr>\n",
       "  </thead>\n",
       "  <tbody>\n",
       "    <tr>\n",
       "      <th>0</th>\n",
       "      <td>864403480</td>\n",
       "      <td>50</td>\n",
       "      <td>Third Time, Love this Hotel!!!</td>\n",
       "      <td>This was our third time staying at the Andaz M...</td>\n",
       "      <td>Yesterday</td>\n",
       "      <td>October 2022</td>\n",
       "      <td>NaN</td>\n",
       "      <td>NaN</td>\n",
       "      <td>Frankfort, Illinois</td>\n",
       "    </tr>\n",
       "    <tr>\n",
       "      <th>1</th>\n",
       "      <td>864278516</td>\n",
       "      <td>50</td>\n",
       "      <td>Beautiful property and very responsive staff</td>\n",
       "      <td>The hotel is great for family with little ones...</td>\n",
       "      <td>Oct 12</td>\n",
       "      <td>October 2022</td>\n",
       "      <td>NaN</td>\n",
       "      <td>NaN</td>\n",
       "      <td>New York City, New York</td>\n",
       "    </tr>\n",
       "    <tr>\n",
       "      <th>2</th>\n",
       "      <td>864163368</td>\n",
       "      <td>50</td>\n",
       "      <td>Phenomenal, planning our next stay</td>\n",
       "      <td>Our stay was phenomenal - early check in, was ...</td>\n",
       "      <td>Oct 11</td>\n",
       "      <td>October 2022</td>\n",
       "      <td>NaN</td>\n",
       "      <td>NaN</td>\n",
       "      <td>NaN</td>\n",
       "    </tr>\n",
       "    <tr>\n",
       "      <th>3</th>\n",
       "      <td>863854863</td>\n",
       "      <td>50</td>\n",
       "      <td>Great beach &amp; Pools</td>\n",
       "      <td>The best beach ever, so much to offer on the p...</td>\n",
       "      <td>Oct 9</td>\n",
       "      <td>September 2022</td>\n",
       "      <td>NaN</td>\n",
       "      <td>NaN</td>\n",
       "      <td>NaN</td>\n",
       "    </tr>\n",
       "    <tr>\n",
       "      <th>4</th>\n",
       "      <td>863586715</td>\n",
       "      <td>10</td>\n",
       "      <td>Valet keyed our rental car, resort refuses to ...</td>\n",
       "      <td>Valet keyed our rental car, resort refuses to ...</td>\n",
       "      <td>Oct 7</td>\n",
       "      <td>September 2022</td>\n",
       "      <td>NaN</td>\n",
       "      <td>NaN</td>\n",
       "      <td>NaN</td>\n",
       "    </tr>\n",
       "  </tbody>\n",
       "</table>\n",
       "</div>"
      ],
      "text/plain": [
       "    reviewid  rate                                              topic  \\\n",
       "0  864403480    50                     Third Time, Love this Hotel!!!   \n",
       "1  864278516    50       Beautiful property and very responsive staff   \n",
       "2  864163368    50                 Phenomenal, planning our next stay   \n",
       "3  863854863    50                                Great beach & Pools   \n",
       "4  863586715    10  Valet keyed our rental car, resort refuses to ...   \n",
       "\n",
       "                                              review review_date  \\\n",
       "0  This was our third time staying at the Andaz M...   Yesterday   \n",
       "1  The hotel is great for family with little ones...      Oct 12   \n",
       "2  Our stay was phenomenal - early check in, was ...      Oct 11   \n",
       "3  The best beach ever, so much to offer on the p...       Oct 9   \n",
       "4  Valet keyed our rental car, resort refuses to ...       Oct 7   \n",
       "\n",
       "        stay_date trip_type room_tip                   origin  \n",
       "0    October 2022       NaN      NaN      Frankfort, Illinois  \n",
       "1    October 2022       NaN      NaN  New York City, New York  \n",
       "2    October 2022       NaN      NaN                      NaN  \n",
       "3  September 2022       NaN      NaN                      NaN  \n",
       "4  September 2022       NaN      NaN                      NaN  "
      ]
     },
     "execution_count": 408,
     "metadata": {},
     "output_type": "execute_result"
    }
   ],
   "source": [
    "concat_df_sele.head()"
   ]
  },
  {
   "cell_type": "code",
   "execution_count": 409,
   "metadata": {},
   "outputs": [],
   "source": [
    "clean_df_sele = main_clean_sele(concat_df_sele)"
   ]
  },
  {
   "cell_type": "code",
   "execution_count": 410,
   "metadata": {},
   "outputs": [
    {
     "data": {
      "text/html": [
       "<div>\n",
       "<style scoped>\n",
       "    .dataframe tbody tr th:only-of-type {\n",
       "        vertical-align: middle;\n",
       "    }\n",
       "\n",
       "    .dataframe tbody tr th {\n",
       "        vertical-align: top;\n",
       "    }\n",
       "\n",
       "    .dataframe thead th {\n",
       "        text-align: right;\n",
       "    }\n",
       "</style>\n",
       "<table border=\"1\" class=\"dataframe\">\n",
       "  <thead>\n",
       "    <tr style=\"text-align: right;\">\n",
       "      <th></th>\n",
       "      <th>reviewid</th>\n",
       "      <th>rate</th>\n",
       "      <th>topic</th>\n",
       "      <th>review</th>\n",
       "      <th>review_date</th>\n",
       "      <th>stay_date</th>\n",
       "      <th>trip_type</th>\n",
       "      <th>room_tip</th>\n",
       "      <th>origin</th>\n",
       "      <th>stay_month</th>\n",
       "      <th>stay_year</th>\n",
       "    </tr>\n",
       "  </thead>\n",
       "  <tbody>\n",
       "    <tr>\n",
       "      <th>56617</th>\n",
       "      <td>1517770</td>\n",
       "      <td>5</td>\n",
       "      <td>even bigger than I expected, better than I can...</td>\n",
       "      <td>The Aston Waikiki Beach Tower is just what the...</td>\n",
       "      <td>Dec 2003</td>\n",
       "      <td>November 2004</td>\n",
       "      <td>NaN</td>\n",
       "      <td>NaN</td>\n",
       "      <td>Covington, Louisiana</td>\n",
       "      <td>November</td>\n",
       "      <td>2004</td>\n",
       "    </tr>\n",
       "    <tr>\n",
       "      <th>56618</th>\n",
       "      <td>1283404</td>\n",
       "      <td>5</td>\n",
       "      <td>Aston Waikiki Beach Tower Condos are a great w...</td>\n",
       "      <td>We flew from California to Honolulu and our re...</td>\n",
       "      <td>Sep 2003</td>\n",
       "      <td>NaN</td>\n",
       "      <td>NaN</td>\n",
       "      <td>NaN</td>\n",
       "      <td>California</td>\n",
       "      <td>NaN</td>\n",
       "      <td>NaN</td>\n",
       "    </tr>\n",
       "    <tr>\n",
       "      <th>56619</th>\n",
       "      <td>1212667</td>\n",
       "      <td>5</td>\n",
       "      <td>Beautiful property with a friendly staff</td>\n",
       "      <td>My family and I have just returned from Waikik...</td>\n",
       "      <td>Aug 2003</td>\n",
       "      <td>July 2003</td>\n",
       "      <td>NaN</td>\n",
       "      <td>NaN</td>\n",
       "      <td>West Islip, New York</td>\n",
       "      <td>July</td>\n",
       "      <td>2003</td>\n",
       "    </tr>\n",
       "    <tr>\n",
       "      <th>56620</th>\n",
       "      <td>1135337</td>\n",
       "      <td>5</td>\n",
       "      <td>Great Aston Waikiki Beach Tower</td>\n",
       "      <td>We stayed at this property for 10 days. It has...</td>\n",
       "      <td>Jul 2003</td>\n",
       "      <td>NaN</td>\n",
       "      <td>NaN</td>\n",
       "      <td>NaN</td>\n",
       "      <td>NaN</td>\n",
       "      <td>NaN</td>\n",
       "      <td>NaN</td>\n",
       "    </tr>\n",
       "    <tr>\n",
       "      <th>56621</th>\n",
       "      <td>925531</td>\n",
       "      <td>5</td>\n",
       "      <td>Loved the Hotel</td>\n",
       "      <td>The Aston Waikiki Beach Tower in my opinion is...</td>\n",
       "      <td>Mar 2003</td>\n",
       "      <td>NaN</td>\n",
       "      <td>NaN</td>\n",
       "      <td>NaN</td>\n",
       "      <td>San Diego, CA</td>\n",
       "      <td>NaN</td>\n",
       "      <td>NaN</td>\n",
       "    </tr>\n",
       "  </tbody>\n",
       "</table>\n",
       "</div>"
      ],
      "text/plain": [
       "       reviewid  rate                                              topic  \\\n",
       "56617   1517770     5  even bigger than I expected, better than I can...   \n",
       "56618   1283404     5  Aston Waikiki Beach Tower Condos are a great w...   \n",
       "56619   1212667     5           Beautiful property with a friendly staff   \n",
       "56620   1135337     5                    Great Aston Waikiki Beach Tower   \n",
       "56621    925531     5                                    Loved the Hotel   \n",
       "\n",
       "                                                  review review_date  \\\n",
       "56617  The Aston Waikiki Beach Tower is just what the...    Dec 2003   \n",
       "56618  We flew from California to Honolulu and our re...    Sep 2003   \n",
       "56619  My family and I have just returned from Waikik...    Aug 2003   \n",
       "56620  We stayed at this property for 10 days. It has...    Jul 2003   \n",
       "56621  The Aston Waikiki Beach Tower in my opinion is...    Mar 2003   \n",
       "\n",
       "           stay_date trip_type room_tip                origin stay_month  \\\n",
       "56617  November 2004       NaN      NaN  Covington, Louisiana   November   \n",
       "56618            NaN       NaN      NaN            California        NaN   \n",
       "56619      July 2003       NaN      NaN  West Islip, New York       July   \n",
       "56620            NaN       NaN      NaN                   NaN        NaN   \n",
       "56621            NaN       NaN      NaN         San Diego, CA        NaN   \n",
       "\n",
       "      stay_year  \n",
       "56617      2004  \n",
       "56618       NaN  \n",
       "56619      2003  \n",
       "56620       NaN  \n",
       "56621       NaN  "
      ]
     },
     "execution_count": 410,
     "metadata": {},
     "output_type": "execute_result"
    }
   ],
   "source": [
    "clean_df_sele.tail()"
   ]
  },
  {
   "cell_type": "markdown",
   "metadata": {},
   "source": [
    "### Merge all source"
   ]
  },
  {
   "cell_type": "markdown",
   "metadata": {},
   "source": [
    "### to cleanup\n",
    "- review_date\n",
    "- name\n",
    "- web-scraper-start-url\n"
   ]
  },
  {
   "cell_type": "code",
   "execution_count": 411,
   "metadata": {},
   "outputs": [
    {
     "data": {
      "text/html": [
       "<div>\n",
       "<style scoped>\n",
       "    .dataframe tbody tr th:only-of-type {\n",
       "        vertical-align: middle;\n",
       "    }\n",
       "\n",
       "    .dataframe tbody tr th {\n",
       "        vertical-align: top;\n",
       "    }\n",
       "\n",
       "    .dataframe thead th {\n",
       "        text-align: right;\n",
       "    }\n",
       "</style>\n",
       "<table border=\"1\" class=\"dataframe\">\n",
       "  <thead>\n",
       "    <tr style=\"text-align: right;\">\n",
       "      <th></th>\n",
       "      <th>reviewid</th>\n",
       "      <th>rate</th>\n",
       "      <th>topic</th>\n",
       "      <th>review</th>\n",
       "      <th>review_date</th>\n",
       "      <th>stay_date</th>\n",
       "      <th>trip_type</th>\n",
       "      <th>room_tip</th>\n",
       "      <th>origin</th>\n",
       "      <th>stay_month</th>\n",
       "      <th>stay_year</th>\n",
       "      <th>web-scraper-start-url</th>\n",
       "      <th>name</th>\n",
       "    </tr>\n",
       "  </thead>\n",
       "  <tbody>\n",
       "    <tr>\n",
       "      <th>65834</th>\n",
       "      <td>1665503434-789</td>\n",
       "      <td>3</td>\n",
       "      <td>Great view in Dining Room but needs work</td>\n",
       "      <td>We made a reservation for dinner at Hukalani R...</td>\n",
       "      <td>NaN</td>\n",
       "      <td>September 2018</td>\n",
       "      <td>Traveled with friends</td>\n",
       "      <td>NaN</td>\n",
       "      <td>Philadelphia PA</td>\n",
       "      <td>September</td>\n",
       "      <td>2018</td>\n",
       "      <td>https://www.tripadvisor.com/Hotel_Review-g6062...</td>\n",
       "      <td>Happytraveler87</td>\n",
       "    </tr>\n",
       "    <tr>\n",
       "      <th>65835</th>\n",
       "      <td>1665503434-790</td>\n",
       "      <td>5</td>\n",
       "      <td>First visit to hawaii</td>\n",
       "      <td>This new Timbers resort property opened in Jun...</td>\n",
       "      <td>NaN</td>\n",
       "      <td>September 2018</td>\n",
       "      <td>Traveled as a couple</td>\n",
       "      <td>NaN</td>\n",
       "      <td>Pensacola, Florida</td>\n",
       "      <td>September</td>\n",
       "      <td>2018</td>\n",
       "      <td>https://www.tripadvisor.com/Hotel_Review-g6062...</td>\n",
       "      <td>Charles W</td>\n",
       "    </tr>\n",
       "    <tr>\n",
       "      <th>65836</th>\n",
       "      <td>1665503434-791</td>\n",
       "      <td>5</td>\n",
       "      <td>A resort that you will love instantly</td>\n",
       "      <td>This is the resort I was invited to stay for 3...</td>\n",
       "      <td>NaN</td>\n",
       "      <td>August 2018</td>\n",
       "      <td>Traveled with friends</td>\n",
       "      <td>NaN</td>\n",
       "      <td>New York City, New York</td>\n",
       "      <td>August</td>\n",
       "      <td>2018</td>\n",
       "      <td>https://www.tripadvisor.com/Hotel_Review-g6062...</td>\n",
       "      <td>ChelseaAlexNY</td>\n",
       "    </tr>\n",
       "    <tr>\n",
       "      <th>65837</th>\n",
       "      <td>1665503434-792</td>\n",
       "      <td>5</td>\n",
       "      <td>Beautiful, relaxing, great people Mahalo!</td>\n",
       "      <td>The Timbers is a brand new resort in Kauai, an...</td>\n",
       "      <td>NaN</td>\n",
       "      <td>July 2018</td>\n",
       "      <td>Traveled as a couple</td>\n",
       "      <td>NaN</td>\n",
       "      <td>Manhattan Beach, California</td>\n",
       "      <td>July</td>\n",
       "      <td>2018</td>\n",
       "      <td>https://www.tripadvisor.com/Hotel_Review-g6062...</td>\n",
       "      <td>Frank M</td>\n",
       "    </tr>\n",
       "    <tr>\n",
       "      <th>65838</th>\n",
       "      <td>1665503434-793</td>\n",
       "      <td>5</td>\n",
       "      <td>Beautiful, relaxing, great people Mahalo!</td>\n",
       "      <td>The Timbers is a brand new resort in Kauai, an...</td>\n",
       "      <td>NaN</td>\n",
       "      <td>July 2018</td>\n",
       "      <td>Traveled as a couple</td>\n",
       "      <td>NaN</td>\n",
       "      <td>Manhattan Beach, California</td>\n",
       "      <td>July</td>\n",
       "      <td>2018</td>\n",
       "      <td>https://www.tripadvisor.com/Hotel_Review-g6062...</td>\n",
       "      <td>Frank M</td>\n",
       "    </tr>\n",
       "  </tbody>\n",
       "</table>\n",
       "</div>"
      ],
      "text/plain": [
       "             reviewid  rate                                      topic  \\\n",
       "65834  1665503434-789     3   Great view in Dining Room but needs work   \n",
       "65835  1665503434-790     5                      First visit to hawaii   \n",
       "65836  1665503434-791     5      A resort that you will love instantly   \n",
       "65837  1665503434-792     5  Beautiful, relaxing, great people Mahalo!   \n",
       "65838  1665503434-793     5  Beautiful, relaxing, great people Mahalo!   \n",
       "\n",
       "                                                  review review_date  \\\n",
       "65834  We made a reservation for dinner at Hukalani R...         NaN   \n",
       "65835  This new Timbers resort property opened in Jun...         NaN   \n",
       "65836  This is the resort I was invited to stay for 3...         NaN   \n",
       "65837  The Timbers is a brand new resort in Kauai, an...         NaN   \n",
       "65838  The Timbers is a brand new resort in Kauai, an...         NaN   \n",
       "\n",
       "            stay_date              trip_type room_tip  \\\n",
       "65834  September 2018  Traveled with friends      NaN   \n",
       "65835  September 2018   Traveled as a couple      NaN   \n",
       "65836     August 2018  Traveled with friends      NaN   \n",
       "65837       July 2018   Traveled as a couple      NaN   \n",
       "65838       July 2018   Traveled as a couple      NaN   \n",
       "\n",
       "                            origin stay_month stay_year  \\\n",
       "65834              Philadelphia PA  September      2018   \n",
       "65835           Pensacola, Florida  September      2018   \n",
       "65836      New York City, New York     August      2018   \n",
       "65837  Manhattan Beach, California       July      2018   \n",
       "65838  Manhattan Beach, California       July      2018   \n",
       "\n",
       "                                   web-scraper-start-url             name  \n",
       "65834  https://www.tripadvisor.com/Hotel_Review-g6062...  Happytraveler87  \n",
       "65835  https://www.tripadvisor.com/Hotel_Review-g6062...        Charles W  \n",
       "65836  https://www.tripadvisor.com/Hotel_Review-g6062...    ChelseaAlexNY  \n",
       "65837  https://www.tripadvisor.com/Hotel_Review-g6062...          Frank M  \n",
       "65838  https://www.tripadvisor.com/Hotel_Review-g6062...          Frank M  "
      ]
     },
     "execution_count": 411,
     "metadata": {},
     "output_type": "execute_result"
    }
   ],
   "source": [
    "hawii_all_df = pd.concat([clean_df_sele,clean_df],ignore_index=True, sort=False)\n",
    "hawii_all_df.tail()"
   ]
  },
  {
   "cell_type": "code",
   "execution_count": 412,
   "metadata": {},
   "outputs": [
    {
     "data": {
      "text/plain": [
       "65839"
      ]
     },
     "execution_count": 412,
     "metadata": {},
     "output_type": "execute_result"
    }
   ],
   "source": [
    "count_row\n"
   ]
  },
  {
   "cell_type": "code",
   "execution_count": 413,
   "metadata": {},
   "outputs": [],
   "source": [
    "hawii_all_df.to_csv('./dataset/hawaii_reviews_raw.csv', index=False)"
   ]
  },
  {
   "cell_type": "markdown",
   "metadata": {},
   "source": [
    "### Clean and filter data to dataset"
   ]
  },
  {
   "cell_type": "code",
   "execution_count": 414,
   "metadata": {},
   "outputs": [
    {
     "data": {
      "text/html": [
       "<div>\n",
       "<style scoped>\n",
       "    .dataframe tbody tr th:only-of-type {\n",
       "        vertical-align: middle;\n",
       "    }\n",
       "\n",
       "    .dataframe tbody tr th {\n",
       "        vertical-align: top;\n",
       "    }\n",
       "\n",
       "    .dataframe thead th {\n",
       "        text-align: right;\n",
       "    }\n",
       "</style>\n",
       "<table border=\"1\" class=\"dataframe\">\n",
       "  <thead>\n",
       "    <tr style=\"text-align: right;\">\n",
       "      <th></th>\n",
       "      <th>reviewid</th>\n",
       "      <th>rate</th>\n",
       "      <th>topic</th>\n",
       "      <th>review</th>\n",
       "      <th>review_date</th>\n",
       "      <th>stay_date</th>\n",
       "      <th>trip_type</th>\n",
       "      <th>room_tip</th>\n",
       "      <th>origin</th>\n",
       "      <th>stay_month</th>\n",
       "      <th>stay_year</th>\n",
       "      <th>web-scraper-start-url</th>\n",
       "      <th>name</th>\n",
       "    </tr>\n",
       "  </thead>\n",
       "  <tbody>\n",
       "    <tr>\n",
       "      <th>0</th>\n",
       "      <td>864403480</td>\n",
       "      <td>5</td>\n",
       "      <td>Third Time, Love this Hotel!!!</td>\n",
       "      <td>This was our third time staying at the Andaz M...</td>\n",
       "      <td>Oct 12</td>\n",
       "      <td>October 2022</td>\n",
       "      <td>NaN</td>\n",
       "      <td>NaN</td>\n",
       "      <td>Frankfort, Illinois</td>\n",
       "      <td>October</td>\n",
       "      <td>2022</td>\n",
       "      <td>NaN</td>\n",
       "      <td>NaN</td>\n",
       "    </tr>\n",
       "  </tbody>\n",
       "</table>\n",
       "</div>"
      ],
      "text/plain": [
       "    reviewid  rate                           topic  \\\n",
       "0  864403480     5  Third Time, Love this Hotel!!!   \n",
       "\n",
       "                                              review review_date  \\\n",
       "0  This was our third time staying at the Andaz M...      Oct 12   \n",
       "\n",
       "      stay_date trip_type room_tip               origin stay_month stay_year  \\\n",
       "0  October 2022       NaN      NaN  Frankfort, Illinois    October      2022   \n",
       "\n",
       "  web-scraper-start-url name  \n",
       "0                   NaN  NaN  "
      ]
     },
     "execution_count": 414,
     "metadata": {},
     "output_type": "execute_result"
    }
   ],
   "source": [
    "hawii_all_df.head(1)"
   ]
  },
  {
   "cell_type": "code",
   "execution_count": 415,
   "metadata": {},
   "outputs": [],
   "source": [
    "def clean_reviewdate(x):\n",
    "  if len(str(x)) < 4:\n",
    "    return 2022\n",
    "  \n",
    "  return x\n",
    "\n",
    "hawii_clean_df = hawii_all_df.drop(labels=['web-scraper-start-url','name'], axis=1)\n",
    "hawii_clean_df[['review_month', 'review_year']] = hawii_clean_df['review_date'].str.split(' ', 1, expand=True)\n",
    "hawii_clean_df['review_year'] = hawii_clean_df['review_year'].apply(clean_reviewdate)\n",
    "hawii_clean_df['stay_year'].fillna(hawii_clean_df['review_year'], inplace=True)\n",
    "hawii_clean_df['stay_year'].fillna(method='bfill', inplace=True)\n",
    "hawii_clean_df['stay_year'] = hawii_clean_df['stay_year'].astype(int)"
   ]
  },
  {
   "cell_type": "code",
   "execution_count": 416,
   "metadata": {},
   "outputs": [
    {
     "data": {
      "text/plain": [
       "array([2022, 2021, 2020, 2019, 2018, 2017, 2016, 2015, 2014, 2013, 2012,\n",
       "       2011, 2010, 2009, 2008, 2006, 2007, 2005, 2004, 2003, 2002, 2000,\n",
       "       2001, 1999])"
      ]
     },
     "execution_count": 416,
     "metadata": {},
     "output_type": "execute_result"
    }
   ],
   "source": [
    "hawii_clean_df['stay_year'].unique()"
   ]
  },
  {
   "cell_type": "code",
   "execution_count": 417,
   "metadata": {},
   "outputs": [
    {
     "data": {
      "text/plain": [
       "0"
      ]
     },
     "execution_count": 417,
     "metadata": {},
     "output_type": "execute_result"
    }
   ],
   "source": [
    "hawii_clean_df['stay_year'].isna().sum()"
   ]
  },
  {
   "cell_type": "markdown",
   "metadata": {},
   "source": [
    "### filter review date 5 year "
   ]
  },
  {
   "cell_type": "code",
   "execution_count": 418,
   "metadata": {},
   "outputs": [],
   "source": [
    "hawii_filter_df = hawii_clean_df[hawii_clean_df['stay_year'].astype(int) >  2017]"
   ]
  },
  {
   "cell_type": "code",
   "execution_count": 419,
   "metadata": {},
   "outputs": [
    {
     "data": {
      "text/plain": [
       "17047"
      ]
     },
     "execution_count": 419,
     "metadata": {},
     "output_type": "execute_result"
    }
   ],
   "source": [
    "len(hawii_filter_df)"
   ]
  },
  {
   "cell_type": "code",
   "execution_count": 420,
   "metadata": {},
   "outputs": [
    {
     "data": {
      "text/plain": [
       "array([2022, 2021, 2020, 2019, 2018])"
      ]
     },
     "execution_count": 420,
     "metadata": {},
     "output_type": "execute_result"
    }
   ],
   "source": [
    "hawii_filter_df['stay_year'].unique()"
   ]
  },
  {
   "cell_type": "code",
   "execution_count": 430,
   "metadata": {},
   "outputs": [
    {
     "data": {
      "text/plain": [
       "(17047, 13)"
      ]
     },
     "execution_count": 430,
     "metadata": {},
     "output_type": "execute_result"
    }
   ],
   "source": [
    "hawii_filter_df.shape"
   ]
  },
  {
   "cell_type": "code",
   "execution_count": 421,
   "metadata": {},
   "outputs": [],
   "source": [
    "hawii_filter_df.to_csv('./dataset/hawaii_reviews_filter.csv', index=False)"
   ]
  },
  {
   "cell_type": "markdown",
   "metadata": {},
   "source": [
    "_______________________"
   ]
  },
  {
   "cell_type": "markdown",
   "metadata": {},
   "source": [
    "### Manual/ Backup code"
   ]
  },
  {
   "cell_type": "code",
   "execution_count": 422,
   "metadata": {},
   "outputs": [],
   "source": [
    "# cnx_df = pd.read_csv(r\"E:\\DSC\\BA\\assignment_hotel\\TripAdvisor\\data\\cnx_hotel_reviews.csv\")\n",
    "# cnx_df.head(1)"
   ]
  },
  {
   "cell_type": "code",
   "execution_count": 423,
   "metadata": {},
   "outputs": [],
   "source": [
    "# cnx_df['rate'].unique()"
   ]
  },
  {
   "cell_type": "code",
   "execution_count": 424,
   "metadata": {},
   "outputs": [],
   "source": [
    "# import numpy as np\n",
    "\n",
    "\n",
    "# def rate_prep(x: str):\n",
    "#   if not isinstance(x, str):\n",
    "#     return None\n",
    "#   return x.split('ui_bubble_rating bubble_')[1]\n",
    "\n",
    "# def stay_prep(x: str):\n",
    "#   if not isinstance(x, str):\n",
    "#     return None\n",
    "#   return x.split(':')[1].strip()\n",
    "\n",
    "# def triptype_prep(x: str):\n",
    "#   if not isinstance(x, str):\n",
    "#     return None\n",
    "#   return x.split(':')[1].strip()\n",
    "\n",
    "# def review_prep(x: str):\n",
    "#   if not isinstance(x, str):\n",
    "#     return None\n",
    "#   return x.replace('\\n','').strip()\n",
    "\n",
    "# def review_origin(x: str):\n",
    "#   if not isinstance(x, str) or x=='1 contribution':\n",
    "#     return None\n",
    "  \n",
    "#   return x.split(' contributions')[0].rstrip('0123456789')"
   ]
  },
  {
   "cell_type": "code",
   "execution_count": 425,
   "metadata": {},
   "outputs": [],
   "source": [
    "# cnx_df['rate'] = cnx_df['rate'].apply(rate_prep)\n",
    "# cnx_df['stay'] = cnx_df['stay'].apply(stay_prep)\n",
    "# cnx_df['triptype'] = cnx_df['triptype'].apply(triptype_prep)\n",
    "# cnx_df['review'] = cnx_df['review'].apply(review_prep)\n",
    "# cnx_df['origin'] = cnx_df['origin'].apply(review_origin)"
   ]
  },
  {
   "cell_type": "code",
   "execution_count": 426,
   "metadata": {},
   "outputs": [],
   "source": [
    "# cnx_df['origin'][0].split(' contributions')[0].rstrip('0123456789')"
   ]
  },
  {
   "cell_type": "code",
   "execution_count": 427,
   "metadata": {},
   "outputs": [],
   "source": [
    "# cnx_df['review'][0]"
   ]
  },
  {
   "cell_type": "code",
   "execution_count": 428,
   "metadata": {},
   "outputs": [],
   "source": [
    "# cnx_df.head(20)"
   ]
  }
 ],
 "metadata": {
  "kernelspec": {
   "display_name": "Python 3.9.1 64-bit",
   "language": "python",
   "name": "python3"
  },
  "language_info": {
   "codemirror_mode": {
    "name": "ipython",
    "version": 3
   },
   "file_extension": ".py",
   "mimetype": "text/x-python",
   "name": "python",
   "nbconvert_exporter": "python",
   "pygments_lexer": "ipython3",
   "version": "3.9.1"
  },
  "orig_nbformat": 4,
  "vscode": {
   "interpreter": {
    "hash": "763b8da4a79ad11e4f32e866ced499328a337549e2659251c34b52d077063d81"
   }
  }
 },
 "nbformat": 4,
 "nbformat_minor": 2
}
