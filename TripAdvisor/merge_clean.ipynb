{
 "cells": [
  {
   "cell_type": "markdown",
   "metadata": {},
   "source": [
    "### Clean Data From Webscraper"
   ]
  },
  {
   "cell_type": "code",
   "execution_count": 41,
   "metadata": {},
   "outputs": [],
   "source": [
    "count_row = 0"
   ]
  },
  {
   "cell_type": "code",
   "execution_count": 42,
   "metadata": {},
   "outputs": [],
   "source": [
    "import pandas as pd\n",
    "import numpy as np\n",
    "\n",
    "def rate_prep(x: str):\n",
    "  if isinstance(x, int):\n",
    "    return str(x)\n",
    "  if not isinstance(x, str):\n",
    "    return None\n",
    " \n",
    "  return x.split('ui_bubble_rating bubble_')[1]\n",
    "\n",
    "def stay_prep(x: str):\n",
    "  if not isinstance(x, str):\n",
    "    return None\n",
    "  return x.split(':')[1].strip()\n",
    "\n",
    "def triptype_prep(x: str):\n",
    "  if not isinstance(x, str):\n",
    "    return None\n",
    "  return x.split(':')[1].strip()\n",
    "\n",
    "def review_prep(x: str):\n",
    "  if not isinstance(x, str):\n",
    "    return None\n",
    "  return x.replace('\\n','').strip()\n",
    "\n",
    "def review_origin(x: str):\n",
    "  if not isinstance(x, str) or x=='1 contribution':\n",
    "    return None\n",
    "  \n",
    "  return x.split(' contributions')[0].rstrip('0123456789')\n",
    "\n",
    "def review_date_prep(x):\n",
    "  if not isinstance(x, str):\n",
    "    return None\n",
    "  \n",
    "  if x == 'Yesterday':\n",
    "    return 'Oct 12'\n",
    "  return x\n",
    "\n",
    "\n",
    "def main_clean(df):\n",
    "  df['rate'] = df['rate'].apply(rate_prep)\n",
    "  df['rate'] = df['rate'].astype(int) /10\n",
    "  df['rate'] = df['rate'].astype(int)\n",
    "  \n",
    "  df['stay_date'] = df['stay_date'].apply(stay_prep)\n",
    "  df['trip_type'] = df['trip_type'].apply(triptype_prep)\n",
    "  df['review'] = df['review'].apply(review_prep)\n",
    "  df['origin'] = df['origin'].apply(review_origin)\n",
    "  df[['stay_month', 'stay_year']] = df['stay_date'].str.split(' ', 1, expand=True)\n",
    "  return df"
   ]
  },
  {
   "cell_type": "code",
   "execution_count": 43,
   "metadata": {},
   "outputs": [],
   "source": [
    "STANDARD_COLUMNS = {\n",
    "  'rating':'rate', \n",
    "  'title':'topic', \n",
    "  'stay':'stay_date', \n",
    "  'triptype':'trip_type', \n",
    "  'web-scraper-order':'reviewid', \n",
    "}\n"
   ]
  },
  {
   "cell_type": "code",
   "execution_count": 44,
   "metadata": {},
   "outputs": [
    {
     "name": "stdout",
     "output_type": "stream",
     "text": [
      "all files:  ['hawaii_webspider1.csv', 'hawaii_webspider2.csv', 'hawaii_webspider3.csv', 'hawaii_webspider5.csv', 'hawaii_webspider_21_25.csv'] \n",
      "total files: 5\n"
     ]
    }
   ],
   "source": [
    "# check all files\n",
    "from pathlib import Path \n",
    "path = Path(r\"E:\\DSC\\BA\\assignment_hotel\\TripAdvisor\\rawdata\")\n",
    "fileNames = [file.name for file in path.iterdir() if file.name.startswith('hawaii_') & file.name.endswith('.csv')] \n",
    "print('all files: ', fileNames,'\\ntotal files:', len(fileNames))"
   ]
  },
  {
   "cell_type": "code",
   "execution_count": 45,
   "metadata": {},
   "outputs": [
    {
     "data": {
      "text/plain": [
       "9217"
      ]
     },
     "execution_count": 45,
     "metadata": {},
     "output_type": "execute_result"
    }
   ],
   "source": [
    "all_df = []\n",
    "for file in fileNames:\n",
    "  df = pd.read_csv(f\"{path}/{file}\")\n",
    "  count_row += len(df)\n",
    "  all_df.append(df)\n",
    "concat_df = pd.concat(all_df, ignore_index=True, sort=False)\n",
    "len(concat_df)"
   ]
  },
  {
   "cell_type": "code",
   "execution_count": 46,
   "metadata": {},
   "outputs": [
    {
     "data": {
      "text/html": [
       "<div>\n",
       "<style scoped>\n",
       "    .dataframe tbody tr th:only-of-type {\n",
       "        vertical-align: middle;\n",
       "    }\n",
       "\n",
       "    .dataframe tbody tr th {\n",
       "        vertical-align: top;\n",
       "    }\n",
       "\n",
       "    .dataframe thead th {\n",
       "        text-align: right;\n",
       "    }\n",
       "</style>\n",
       "<table border=\"1\" class=\"dataframe\">\n",
       "  <thead>\n",
       "    <tr style=\"text-align: right;\">\n",
       "      <th></th>\n",
       "      <th>web-scraper-order</th>\n",
       "      <th>web-scraper-start-url</th>\n",
       "      <th>name</th>\n",
       "      <th>origin</th>\n",
       "      <th>topic</th>\n",
       "      <th>review</th>\n",
       "      <th>stay</th>\n",
       "      <th>triptype</th>\n",
       "      <th>rate</th>\n",
       "    </tr>\n",
       "  </thead>\n",
       "  <tbody>\n",
       "    <tr>\n",
       "      <th>9216</th>\n",
       "      <td>1665503434-793</td>\n",
       "      <td>https://www.tripadvisor.com/Hotel_Review-g6062...</td>\n",
       "      <td>Frank M</td>\n",
       "      <td>Manhattan Beach, California101 contributions79...</td>\n",
       "      <td>Beautiful, relaxing, great people Mahalo!</td>\n",
       "      <td>The Timbers is a brand new resort in Kauai, an...</td>\n",
       "      <td>Date of stay: July 2018</td>\n",
       "      <td>Trip type: Traveled as a couple</td>\n",
       "      <td>ui_bubble_rating bubble_50</td>\n",
       "    </tr>\n",
       "  </tbody>\n",
       "</table>\n",
       "</div>"
      ],
      "text/plain": [
       "     web-scraper-order                              web-scraper-start-url  \\\n",
       "9216    1665503434-793  https://www.tripadvisor.com/Hotel_Review-g6062...   \n",
       "\n",
       "         name                                             origin  \\\n",
       "9216  Frank M  Manhattan Beach, California101 contributions79...   \n",
       "\n",
       "                                          topic  \\\n",
       "9216  Beautiful, relaxing, great people Mahalo!   \n",
       "\n",
       "                                                 review  \\\n",
       "9216  The Timbers is a brand new resort in Kauai, an...   \n",
       "\n",
       "                         stay                         triptype  \\\n",
       "9216  Date of stay: July 2018  Trip type: Traveled as a couple   \n",
       "\n",
       "                            rate  \n",
       "9216  ui_bubble_rating bubble_50  "
      ]
     },
     "execution_count": 46,
     "metadata": {},
     "output_type": "execute_result"
    }
   ],
   "source": [
    "concat_df.tail(1)"
   ]
  },
  {
   "cell_type": "code",
   "execution_count": 47,
   "metadata": {},
   "outputs": [],
   "source": [
    "concat_df.rename(columns = STANDARD_COLUMNS, inplace = True)\n",
    "clean_df = main_clean(concat_df)"
   ]
  },
  {
   "cell_type": "code",
   "execution_count": 48,
   "metadata": {},
   "outputs": [
    {
     "data": {
      "text/html": [
       "<div>\n",
       "<style scoped>\n",
       "    .dataframe tbody tr th:only-of-type {\n",
       "        vertical-align: middle;\n",
       "    }\n",
       "\n",
       "    .dataframe tbody tr th {\n",
       "        vertical-align: top;\n",
       "    }\n",
       "\n",
       "    .dataframe thead th {\n",
       "        text-align: right;\n",
       "    }\n",
       "</style>\n",
       "<table border=\"1\" class=\"dataframe\">\n",
       "  <thead>\n",
       "    <tr style=\"text-align: right;\">\n",
       "      <th></th>\n",
       "      <th>reviewid</th>\n",
       "      <th>web-scraper-start-url</th>\n",
       "      <th>name</th>\n",
       "      <th>origin</th>\n",
       "      <th>topic</th>\n",
       "      <th>review</th>\n",
       "      <th>stay_date</th>\n",
       "      <th>trip_type</th>\n",
       "      <th>rate</th>\n",
       "      <th>stay_month</th>\n",
       "      <th>stay_year</th>\n",
       "    </tr>\n",
       "  </thead>\n",
       "  <tbody>\n",
       "    <tr>\n",
       "      <th>0</th>\n",
       "      <td>1665326404-85</td>\n",
       "      <td>https://www.tripadvisor.com/Hotel_Review-g6098...</td>\n",
       "      <td>Javier G</td>\n",
       "      <td>Santo Domingo, Dominican Republic1 contribution</td>\n",
       "      <td>Great Hotel for Honeymooners</td>\n",
       "      <td>The hotel was great with outstanding service f...</td>\n",
       "      <td>September 2022</td>\n",
       "      <td>Traveled as a couple</td>\n",
       "      <td>5</td>\n",
       "      <td>September</td>\n",
       "      <td>2022</td>\n",
       "    </tr>\n",
       "  </tbody>\n",
       "</table>\n",
       "</div>"
      ],
      "text/plain": [
       "        reviewid                              web-scraper-start-url      name  \\\n",
       "0  1665326404-85  https://www.tripadvisor.com/Hotel_Review-g6098...  Javier G   \n",
       "\n",
       "                                            origin  \\\n",
       "0  Santo Domingo, Dominican Republic1 contribution   \n",
       "\n",
       "                          topic  \\\n",
       "0  Great Hotel for Honeymooners   \n",
       "\n",
       "                                              review       stay_date  \\\n",
       "0  The hotel was great with outstanding service f...  September 2022   \n",
       "\n",
       "              trip_type  rate stay_month stay_year  \n",
       "0  Traveled as a couple     5  September      2022  "
      ]
     },
     "execution_count": 48,
     "metadata": {},
     "output_type": "execute_result"
    }
   ],
   "source": [
    "clean_df.head(1)"
   ]
  },
  {
   "cell_type": "markdown",
   "metadata": {},
   "source": [
    "### Clean Data from Selenuim"
   ]
  },
  {
   "cell_type": "code",
   "execution_count": 49,
   "metadata": {},
   "outputs": [
    {
     "name": "stdout",
     "output_type": "stream",
     "text": [
      "all files:  ['Hawaii_11.csv', 'Hawaii_12.csv', 'Hawaii_13.csv', 'Hawaii_14.csv', 'Hawaii_15.csv', 'Hawaii_16.csv', 'Hawaii_17.csv', 'Hawaii_18.csv', 'Hawaii_19.csv', 'Hawaii_20.csv', 'Hawaii_4.csv', 'Hawaii_6.csv', 'Hawaii_7.csv', 'Hawaii_8.csv', 'Hawaii_87399.csv', 'Hawaii_9.csv'] \n",
      "total files: 16\n"
     ]
    }
   ],
   "source": [
    "# check all files\n",
    "from pathlib import Path \n",
    "path = Path(r\"E:\\DSC\\BA\\assignment_hotel\\TripAdvisor\\rawdata\")\n",
    "fileNames = [file.name for file in path.iterdir() if file.name.startswith('Hawaii_') & file.name.endswith('.csv')] \n",
    "print('all files: ', fileNames,'\\ntotal files:', len(fileNames))"
   ]
  },
  {
   "cell_type": "code",
   "execution_count": 50,
   "metadata": {},
   "outputs": [],
   "source": [
    "# test_df = pd.read_csv(f\"{path}/{fileNames[0]}\")\n",
    "# test_df_clean = main_clean(test_df)\n",
    "# test_df_clean"
   ]
  },
  {
   "cell_type": "code",
   "execution_count": 51,
   "metadata": {},
   "outputs": [
    {
     "data": {
      "text/plain": [
       "56622"
      ]
     },
     "execution_count": 51,
     "metadata": {},
     "output_type": "execute_result"
    }
   ],
   "source": [
    "all_df = []\n",
    "for file in fileNames:\n",
    "  df = pd.read_csv(f\"{path}/{file}\")\n",
    "  count_row += len(df)\n",
    "  \n",
    "  all_df.append(df)\n",
    "\n",
    "concat_df_sele = pd.concat(all_df, ignore_index=True, sort=False)\n",
    "len(concat_df_sele)"
   ]
  },
  {
   "cell_type": "code",
   "execution_count": 52,
   "metadata": {},
   "outputs": [],
   "source": [
    "def main_clean_sele(df):\n",
    "  # df['rate'] = df['rate'].apply(rate_prep)\n",
    "  df['rate'] = df['rate'].astype(int) / 10\n",
    "  df['rate'] = df['rate'].astype(int)\n",
    "  # df['stay_date'] = df['stay_date'].apply(stay_prep)\n",
    "  # df['trip_type'] = df['trip_type'].apply(triptype_prep)\n",
    "  df['review'] = df['review'].apply(review_prep)\n",
    "  df['review_date'] = df['review_date'].apply(review_date_prep)\n",
    "  # df['origin'] = df['origin'].apply(review_origin)\n",
    "  df[['stay_month', 'stay_year']] = df['stay_date'].str.split(' ', 1, expand=True)\n",
    "  return df"
   ]
  },
  {
   "cell_type": "code",
   "execution_count": 53,
   "metadata": {},
   "outputs": [],
   "source": [
    "concat_df_sele.rename(columns = STANDARD_COLUMNS, inplace = True)"
   ]
  },
  {
   "cell_type": "code",
   "execution_count": 54,
   "metadata": {},
   "outputs": [
    {
     "name": "stdout",
     "output_type": "stream",
     "text": [
      "<class 'pandas.core.frame.DataFrame'>\n",
      "RangeIndex: 56622 entries, 0 to 56621\n",
      "Data columns (total 9 columns):\n",
      " #   Column       Non-Null Count  Dtype \n",
      "---  ------       --------------  ----- \n",
      " 0   reviewid     56622 non-null  int64 \n",
      " 1   rate         56622 non-null  int64 \n",
      " 2   topic        56619 non-null  object\n",
      " 3   review       56622 non-null  object\n",
      " 4   review_date  56622 non-null  object\n",
      " 5   stay_date    55711 non-null  object\n",
      " 6   trip_type    47822 non-null  object\n",
      " 7   room_tip     12015 non-null  object\n",
      " 8   origin       49557 non-null  object\n",
      "dtypes: int64(2), object(7)\n",
      "memory usage: 3.9+ MB\n"
     ]
    }
   ],
   "source": [
    "concat_df_sele.info()"
   ]
  },
  {
   "cell_type": "code",
   "execution_count": 55,
   "metadata": {},
   "outputs": [
    {
     "data": {
      "text/html": [
       "<div>\n",
       "<style scoped>\n",
       "    .dataframe tbody tr th:only-of-type {\n",
       "        vertical-align: middle;\n",
       "    }\n",
       "\n",
       "    .dataframe tbody tr th {\n",
       "        vertical-align: top;\n",
       "    }\n",
       "\n",
       "    .dataframe thead th {\n",
       "        text-align: right;\n",
       "    }\n",
       "</style>\n",
       "<table border=\"1\" class=\"dataframe\">\n",
       "  <thead>\n",
       "    <tr style=\"text-align: right;\">\n",
       "      <th></th>\n",
       "      <th>reviewid</th>\n",
       "      <th>rate</th>\n",
       "      <th>topic</th>\n",
       "      <th>review</th>\n",
       "      <th>review_date</th>\n",
       "      <th>stay_date</th>\n",
       "      <th>trip_type</th>\n",
       "      <th>room_tip</th>\n",
       "      <th>origin</th>\n",
       "    </tr>\n",
       "  </thead>\n",
       "  <tbody>\n",
       "    <tr>\n",
       "      <th>0</th>\n",
       "      <td>864403480</td>\n",
       "      <td>50</td>\n",
       "      <td>Third Time, Love this Hotel!!!</td>\n",
       "      <td>This was our third time staying at the Andaz M...</td>\n",
       "      <td>Yesterday</td>\n",
       "      <td>October 2022</td>\n",
       "      <td>NaN</td>\n",
       "      <td>NaN</td>\n",
       "      <td>Frankfort, Illinois</td>\n",
       "    </tr>\n",
       "    <tr>\n",
       "      <th>1</th>\n",
       "      <td>864278516</td>\n",
       "      <td>50</td>\n",
       "      <td>Beautiful property and very responsive staff</td>\n",
       "      <td>The hotel is great for family with little ones...</td>\n",
       "      <td>Oct 12</td>\n",
       "      <td>October 2022</td>\n",
       "      <td>NaN</td>\n",
       "      <td>NaN</td>\n",
       "      <td>New York City, New York</td>\n",
       "    </tr>\n",
       "    <tr>\n",
       "      <th>2</th>\n",
       "      <td>864163368</td>\n",
       "      <td>50</td>\n",
       "      <td>Phenomenal, planning our next stay</td>\n",
       "      <td>Our stay was phenomenal - early check in, was ...</td>\n",
       "      <td>Oct 11</td>\n",
       "      <td>October 2022</td>\n",
       "      <td>NaN</td>\n",
       "      <td>NaN</td>\n",
       "      <td>NaN</td>\n",
       "    </tr>\n",
       "    <tr>\n",
       "      <th>3</th>\n",
       "      <td>863854863</td>\n",
       "      <td>50</td>\n",
       "      <td>Great beach &amp; Pools</td>\n",
       "      <td>The best beach ever, so much to offer on the p...</td>\n",
       "      <td>Oct 9</td>\n",
       "      <td>September 2022</td>\n",
       "      <td>NaN</td>\n",
       "      <td>NaN</td>\n",
       "      <td>NaN</td>\n",
       "    </tr>\n",
       "    <tr>\n",
       "      <th>4</th>\n",
       "      <td>863586715</td>\n",
       "      <td>10</td>\n",
       "      <td>Valet keyed our rental car, resort refuses to ...</td>\n",
       "      <td>Valet keyed our rental car, resort refuses to ...</td>\n",
       "      <td>Oct 7</td>\n",
       "      <td>September 2022</td>\n",
       "      <td>NaN</td>\n",
       "      <td>NaN</td>\n",
       "      <td>NaN</td>\n",
       "    </tr>\n",
       "  </tbody>\n",
       "</table>\n",
       "</div>"
      ],
      "text/plain": [
       "    reviewid  rate                                              topic  \\\n",
       "0  864403480    50                     Third Time, Love this Hotel!!!   \n",
       "1  864278516    50       Beautiful property and very responsive staff   \n",
       "2  864163368    50                 Phenomenal, planning our next stay   \n",
       "3  863854863    50                                Great beach & Pools   \n",
       "4  863586715    10  Valet keyed our rental car, resort refuses to ...   \n",
       "\n",
       "                                              review review_date  \\\n",
       "0  This was our third time staying at the Andaz M...   Yesterday   \n",
       "1  The hotel is great for family with little ones...      Oct 12   \n",
       "2  Our stay was phenomenal - early check in, was ...      Oct 11   \n",
       "3  The best beach ever, so much to offer on the p...       Oct 9   \n",
       "4  Valet keyed our rental car, resort refuses to ...       Oct 7   \n",
       "\n",
       "        stay_date trip_type room_tip                   origin  \n",
       "0    October 2022       NaN      NaN      Frankfort, Illinois  \n",
       "1    October 2022       NaN      NaN  New York City, New York  \n",
       "2    October 2022       NaN      NaN                      NaN  \n",
       "3  September 2022       NaN      NaN                      NaN  \n",
       "4  September 2022       NaN      NaN                      NaN  "
      ]
     },
     "execution_count": 55,
     "metadata": {},
     "output_type": "execute_result"
    }
   ],
   "source": [
    "concat_df_sele.head()"
   ]
  },
  {
   "cell_type": "code",
   "execution_count": 56,
   "metadata": {},
   "outputs": [],
   "source": [
    "clean_df_sele = main_clean_sele(concat_df_sele)"
   ]
  },
  {
   "cell_type": "code",
   "execution_count": 57,
   "metadata": {},
   "outputs": [
    {
     "data": {
      "text/html": [
       "<div>\n",
       "<style scoped>\n",
       "    .dataframe tbody tr th:only-of-type {\n",
       "        vertical-align: middle;\n",
       "    }\n",
       "\n",
       "    .dataframe tbody tr th {\n",
       "        vertical-align: top;\n",
       "    }\n",
       "\n",
       "    .dataframe thead th {\n",
       "        text-align: right;\n",
       "    }\n",
       "</style>\n",
       "<table border=\"1\" class=\"dataframe\">\n",
       "  <thead>\n",
       "    <tr style=\"text-align: right;\">\n",
       "      <th></th>\n",
       "      <th>reviewid</th>\n",
       "      <th>rate</th>\n",
       "      <th>topic</th>\n",
       "      <th>review</th>\n",
       "      <th>review_date</th>\n",
       "      <th>stay_date</th>\n",
       "      <th>trip_type</th>\n",
       "      <th>room_tip</th>\n",
       "      <th>origin</th>\n",
       "      <th>stay_month</th>\n",
       "      <th>stay_year</th>\n",
       "    </tr>\n",
       "  </thead>\n",
       "  <tbody>\n",
       "    <tr>\n",
       "      <th>56617</th>\n",
       "      <td>1517770</td>\n",
       "      <td>5</td>\n",
       "      <td>even bigger than I expected, better than I can...</td>\n",
       "      <td>The Aston Waikiki Beach Tower is just what the...</td>\n",
       "      <td>Dec 2003</td>\n",
       "      <td>November 2004</td>\n",
       "      <td>NaN</td>\n",
       "      <td>NaN</td>\n",
       "      <td>Covington, Louisiana</td>\n",
       "      <td>November</td>\n",
       "      <td>2004</td>\n",
       "    </tr>\n",
       "    <tr>\n",
       "      <th>56618</th>\n",
       "      <td>1283404</td>\n",
       "      <td>5</td>\n",
       "      <td>Aston Waikiki Beach Tower Condos are a great w...</td>\n",
       "      <td>We flew from California to Honolulu and our re...</td>\n",
       "      <td>Sep 2003</td>\n",
       "      <td>NaN</td>\n",
       "      <td>NaN</td>\n",
       "      <td>NaN</td>\n",
       "      <td>California</td>\n",
       "      <td>NaN</td>\n",
       "      <td>NaN</td>\n",
       "    </tr>\n",
       "    <tr>\n",
       "      <th>56619</th>\n",
       "      <td>1212667</td>\n",
       "      <td>5</td>\n",
       "      <td>Beautiful property with a friendly staff</td>\n",
       "      <td>My family and I have just returned from Waikik...</td>\n",
       "      <td>Aug 2003</td>\n",
       "      <td>July 2003</td>\n",
       "      <td>NaN</td>\n",
       "      <td>NaN</td>\n",
       "      <td>West Islip, New York</td>\n",
       "      <td>July</td>\n",
       "      <td>2003</td>\n",
       "    </tr>\n",
       "    <tr>\n",
       "      <th>56620</th>\n",
       "      <td>1135337</td>\n",
       "      <td>5</td>\n",
       "      <td>Great Aston Waikiki Beach Tower</td>\n",
       "      <td>We stayed at this property for 10 days. It has...</td>\n",
       "      <td>Jul 2003</td>\n",
       "      <td>NaN</td>\n",
       "      <td>NaN</td>\n",
       "      <td>NaN</td>\n",
       "      <td>NaN</td>\n",
       "      <td>NaN</td>\n",
       "      <td>NaN</td>\n",
       "    </tr>\n",
       "    <tr>\n",
       "      <th>56621</th>\n",
       "      <td>925531</td>\n",
       "      <td>5</td>\n",
       "      <td>Loved the Hotel</td>\n",
       "      <td>The Aston Waikiki Beach Tower in my opinion is...</td>\n",
       "      <td>Mar 2003</td>\n",
       "      <td>NaN</td>\n",
       "      <td>NaN</td>\n",
       "      <td>NaN</td>\n",
       "      <td>San Diego, CA</td>\n",
       "      <td>NaN</td>\n",
       "      <td>NaN</td>\n",
       "    </tr>\n",
       "  </tbody>\n",
       "</table>\n",
       "</div>"
      ],
      "text/plain": [
       "       reviewid  rate                                              topic  \\\n",
       "56617   1517770     5  even bigger than I expected, better than I can...   \n",
       "56618   1283404     5  Aston Waikiki Beach Tower Condos are a great w...   \n",
       "56619   1212667     5           Beautiful property with a friendly staff   \n",
       "56620   1135337     5                    Great Aston Waikiki Beach Tower   \n",
       "56621    925531     5                                    Loved the Hotel   \n",
       "\n",
       "                                                  review review_date  \\\n",
       "56617  The Aston Waikiki Beach Tower is just what the...    Dec 2003   \n",
       "56618  We flew from California to Honolulu and our re...    Sep 2003   \n",
       "56619  My family and I have just returned from Waikik...    Aug 2003   \n",
       "56620  We stayed at this property for 10 days. It has...    Jul 2003   \n",
       "56621  The Aston Waikiki Beach Tower in my opinion is...    Mar 2003   \n",
       "\n",
       "           stay_date trip_type room_tip                origin stay_month  \\\n",
       "56617  November 2004       NaN      NaN  Covington, Louisiana   November   \n",
       "56618            NaN       NaN      NaN            California        NaN   \n",
       "56619      July 2003       NaN      NaN  West Islip, New York       July   \n",
       "56620            NaN       NaN      NaN                   NaN        NaN   \n",
       "56621            NaN       NaN      NaN         San Diego, CA        NaN   \n",
       "\n",
       "      stay_year  \n",
       "56617      2004  \n",
       "56618       NaN  \n",
       "56619      2003  \n",
       "56620       NaN  \n",
       "56621       NaN  "
      ]
     },
     "execution_count": 57,
     "metadata": {},
     "output_type": "execute_result"
    }
   ],
   "source": [
    "clean_df_sele.tail()"
   ]
  },
  {
   "cell_type": "markdown",
   "metadata": {},
   "source": [
    "### Merge all source"
   ]
  },
  {
   "cell_type": "markdown",
   "metadata": {},
   "source": [
    "### to cleanup\n",
    "- review_date\n",
    "- name\n",
    "- web-scraper-start-url\n"
   ]
  },
  {
   "cell_type": "code",
   "execution_count": 58,
   "metadata": {},
   "outputs": [
    {
     "data": {
      "text/html": [
       "<div>\n",
       "<style scoped>\n",
       "    .dataframe tbody tr th:only-of-type {\n",
       "        vertical-align: middle;\n",
       "    }\n",
       "\n",
       "    .dataframe tbody tr th {\n",
       "        vertical-align: top;\n",
       "    }\n",
       "\n",
       "    .dataframe thead th {\n",
       "        text-align: right;\n",
       "    }\n",
       "</style>\n",
       "<table border=\"1\" class=\"dataframe\">\n",
       "  <thead>\n",
       "    <tr style=\"text-align: right;\">\n",
       "      <th></th>\n",
       "      <th>reviewid</th>\n",
       "      <th>rate</th>\n",
       "      <th>topic</th>\n",
       "      <th>review</th>\n",
       "      <th>review_date</th>\n",
       "      <th>stay_date</th>\n",
       "      <th>trip_type</th>\n",
       "      <th>room_tip</th>\n",
       "      <th>origin</th>\n",
       "      <th>stay_month</th>\n",
       "      <th>stay_year</th>\n",
       "      <th>web-scraper-start-url</th>\n",
       "      <th>name</th>\n",
       "    </tr>\n",
       "  </thead>\n",
       "  <tbody>\n",
       "    <tr>\n",
       "      <th>65834</th>\n",
       "      <td>1665503434-789</td>\n",
       "      <td>3</td>\n",
       "      <td>Great view in Dining Room but needs work</td>\n",
       "      <td>We made a reservation for dinner at Hukalani R...</td>\n",
       "      <td>NaN</td>\n",
       "      <td>September 2018</td>\n",
       "      <td>Traveled with friends</td>\n",
       "      <td>NaN</td>\n",
       "      <td>Philadelphia PA</td>\n",
       "      <td>September</td>\n",
       "      <td>2018</td>\n",
       "      <td>https://www.tripadvisor.com/Hotel_Review-g6062...</td>\n",
       "      <td>Happytraveler87</td>\n",
       "    </tr>\n",
       "    <tr>\n",
       "      <th>65835</th>\n",
       "      <td>1665503434-790</td>\n",
       "      <td>5</td>\n",
       "      <td>First visit to hawaii</td>\n",
       "      <td>This new Timbers resort property opened in Jun...</td>\n",
       "      <td>NaN</td>\n",
       "      <td>September 2018</td>\n",
       "      <td>Traveled as a couple</td>\n",
       "      <td>NaN</td>\n",
       "      <td>Pensacola, Florida</td>\n",
       "      <td>September</td>\n",
       "      <td>2018</td>\n",
       "      <td>https://www.tripadvisor.com/Hotel_Review-g6062...</td>\n",
       "      <td>Charles W</td>\n",
       "    </tr>\n",
       "    <tr>\n",
       "      <th>65836</th>\n",
       "      <td>1665503434-791</td>\n",
       "      <td>5</td>\n",
       "      <td>A resort that you will love instantly</td>\n",
       "      <td>This is the resort I was invited to stay for 3...</td>\n",
       "      <td>NaN</td>\n",
       "      <td>August 2018</td>\n",
       "      <td>Traveled with friends</td>\n",
       "      <td>NaN</td>\n",
       "      <td>New York City, New York</td>\n",
       "      <td>August</td>\n",
       "      <td>2018</td>\n",
       "      <td>https://www.tripadvisor.com/Hotel_Review-g6062...</td>\n",
       "      <td>ChelseaAlexNY</td>\n",
       "    </tr>\n",
       "    <tr>\n",
       "      <th>65837</th>\n",
       "      <td>1665503434-792</td>\n",
       "      <td>5</td>\n",
       "      <td>Beautiful, relaxing, great people Mahalo!</td>\n",
       "      <td>The Timbers is a brand new resort in Kauai, an...</td>\n",
       "      <td>NaN</td>\n",
       "      <td>July 2018</td>\n",
       "      <td>Traveled as a couple</td>\n",
       "      <td>NaN</td>\n",
       "      <td>Manhattan Beach, California</td>\n",
       "      <td>July</td>\n",
       "      <td>2018</td>\n",
       "      <td>https://www.tripadvisor.com/Hotel_Review-g6062...</td>\n",
       "      <td>Frank M</td>\n",
       "    </tr>\n",
       "    <tr>\n",
       "      <th>65838</th>\n",
       "      <td>1665503434-793</td>\n",
       "      <td>5</td>\n",
       "      <td>Beautiful, relaxing, great people Mahalo!</td>\n",
       "      <td>The Timbers is a brand new resort in Kauai, an...</td>\n",
       "      <td>NaN</td>\n",
       "      <td>July 2018</td>\n",
       "      <td>Traveled as a couple</td>\n",
       "      <td>NaN</td>\n",
       "      <td>Manhattan Beach, California</td>\n",
       "      <td>July</td>\n",
       "      <td>2018</td>\n",
       "      <td>https://www.tripadvisor.com/Hotel_Review-g6062...</td>\n",
       "      <td>Frank M</td>\n",
       "    </tr>\n",
       "  </tbody>\n",
       "</table>\n",
       "</div>"
      ],
      "text/plain": [
       "             reviewid  rate                                      topic  \\\n",
       "65834  1665503434-789     3   Great view in Dining Room but needs work   \n",
       "65835  1665503434-790     5                      First visit to hawaii   \n",
       "65836  1665503434-791     5      A resort that you will love instantly   \n",
       "65837  1665503434-792     5  Beautiful, relaxing, great people Mahalo!   \n",
       "65838  1665503434-793     5  Beautiful, relaxing, great people Mahalo!   \n",
       "\n",
       "                                                  review review_date  \\\n",
       "65834  We made a reservation for dinner at Hukalani R...         NaN   \n",
       "65835  This new Timbers resort property opened in Jun...         NaN   \n",
       "65836  This is the resort I was invited to stay for 3...         NaN   \n",
       "65837  The Timbers is a brand new resort in Kauai, an...         NaN   \n",
       "65838  The Timbers is a brand new resort in Kauai, an...         NaN   \n",
       "\n",
       "            stay_date              trip_type room_tip  \\\n",
       "65834  September 2018  Traveled with friends      NaN   \n",
       "65835  September 2018   Traveled as a couple      NaN   \n",
       "65836     August 2018  Traveled with friends      NaN   \n",
       "65837       July 2018   Traveled as a couple      NaN   \n",
       "65838       July 2018   Traveled as a couple      NaN   \n",
       "\n",
       "                            origin stay_month stay_year  \\\n",
       "65834              Philadelphia PA  September      2018   \n",
       "65835           Pensacola, Florida  September      2018   \n",
       "65836      New York City, New York     August      2018   \n",
       "65837  Manhattan Beach, California       July      2018   \n",
       "65838  Manhattan Beach, California       July      2018   \n",
       "\n",
       "                                   web-scraper-start-url             name  \n",
       "65834  https://www.tripadvisor.com/Hotel_Review-g6062...  Happytraveler87  \n",
       "65835  https://www.tripadvisor.com/Hotel_Review-g6062...        Charles W  \n",
       "65836  https://www.tripadvisor.com/Hotel_Review-g6062...    ChelseaAlexNY  \n",
       "65837  https://www.tripadvisor.com/Hotel_Review-g6062...          Frank M  \n",
       "65838  https://www.tripadvisor.com/Hotel_Review-g6062...          Frank M  "
      ]
     },
     "execution_count": 58,
     "metadata": {},
     "output_type": "execute_result"
    }
   ],
   "source": [
    "hawii_all_df = pd.concat([clean_df_sele,clean_df],ignore_index=True, sort=False)\n",
    "hawii_all_df.tail()"
   ]
  },
  {
   "cell_type": "code",
   "execution_count": 59,
   "metadata": {},
   "outputs": [
    {
     "data": {
      "text/plain": [
       "65839"
      ]
     },
     "execution_count": 59,
     "metadata": {},
     "output_type": "execute_result"
    }
   ],
   "source": [
    "count_row\n"
   ]
  },
  {
   "cell_type": "code",
   "execution_count": 60,
   "metadata": {},
   "outputs": [],
   "source": [
    "hawii_all_df.to_csv('./dataset/hawaii_reviews_raw.csv')"
   ]
  },
  {
   "cell_type": "code",
   "execution_count": 61,
   "metadata": {},
   "outputs": [
    {
     "data": {
      "text/html": [
       "<div>\n",
       "<style scoped>\n",
       "    .dataframe tbody tr th:only-of-type {\n",
       "        vertical-align: middle;\n",
       "    }\n",
       "\n",
       "    .dataframe tbody tr th {\n",
       "        vertical-align: top;\n",
       "    }\n",
       "\n",
       "    .dataframe thead th {\n",
       "        text-align: right;\n",
       "    }\n",
       "</style>\n",
       "<table border=\"1\" class=\"dataframe\">\n",
       "  <thead>\n",
       "    <tr style=\"text-align: right;\">\n",
       "      <th></th>\n",
       "      <th>reviewid</th>\n",
       "      <th>rate</th>\n",
       "      <th>topic</th>\n",
       "      <th>review</th>\n",
       "      <th>review_date</th>\n",
       "      <th>stay_date</th>\n",
       "      <th>trip_type</th>\n",
       "      <th>room_tip</th>\n",
       "      <th>origin</th>\n",
       "      <th>stay_month</th>\n",
       "      <th>stay_year</th>\n",
       "      <th>web-scraper-start-url</th>\n",
       "      <th>name</th>\n",
       "    </tr>\n",
       "  </thead>\n",
       "  <tbody>\n",
       "    <tr>\n",
       "      <th>0</th>\n",
       "      <td>864403480</td>\n",
       "      <td>5</td>\n",
       "      <td>Third Time, Love this Hotel!!!</td>\n",
       "      <td>This was our third time staying at the Andaz M...</td>\n",
       "      <td>Oct 12</td>\n",
       "      <td>October 2022</td>\n",
       "      <td>NaN</td>\n",
       "      <td>NaN</td>\n",
       "      <td>Frankfort, Illinois</td>\n",
       "      <td>October</td>\n",
       "      <td>2022</td>\n",
       "      <td>NaN</td>\n",
       "      <td>NaN</td>\n",
       "    </tr>\n",
       "    <tr>\n",
       "      <th>1</th>\n",
       "      <td>864278516</td>\n",
       "      <td>5</td>\n",
       "      <td>Beautiful property and very responsive staff</td>\n",
       "      <td>The hotel is great for family with little ones...</td>\n",
       "      <td>Oct 12</td>\n",
       "      <td>October 2022</td>\n",
       "      <td>NaN</td>\n",
       "      <td>NaN</td>\n",
       "      <td>New York City, New York</td>\n",
       "      <td>October</td>\n",
       "      <td>2022</td>\n",
       "      <td>NaN</td>\n",
       "      <td>NaN</td>\n",
       "    </tr>\n",
       "    <tr>\n",
       "      <th>2</th>\n",
       "      <td>864163368</td>\n",
       "      <td>5</td>\n",
       "      <td>Phenomenal, planning our next stay</td>\n",
       "      <td>Our stay was phenomenal - early check in, was ...</td>\n",
       "      <td>Oct 11</td>\n",
       "      <td>October 2022</td>\n",
       "      <td>NaN</td>\n",
       "      <td>NaN</td>\n",
       "      <td>NaN</td>\n",
       "      <td>October</td>\n",
       "      <td>2022</td>\n",
       "      <td>NaN</td>\n",
       "      <td>NaN</td>\n",
       "    </tr>\n",
       "    <tr>\n",
       "      <th>3</th>\n",
       "      <td>863854863</td>\n",
       "      <td>5</td>\n",
       "      <td>Great beach &amp; Pools</td>\n",
       "      <td>The best beach ever, so much to offer on the p...</td>\n",
       "      <td>Oct 9</td>\n",
       "      <td>September 2022</td>\n",
       "      <td>NaN</td>\n",
       "      <td>NaN</td>\n",
       "      <td>NaN</td>\n",
       "      <td>September</td>\n",
       "      <td>2022</td>\n",
       "      <td>NaN</td>\n",
       "      <td>NaN</td>\n",
       "    </tr>\n",
       "    <tr>\n",
       "      <th>4</th>\n",
       "      <td>863586715</td>\n",
       "      <td>1</td>\n",
       "      <td>Valet keyed our rental car, resort refuses to ...</td>\n",
       "      <td>Valet keyed our rental car, resort refuses to ...</td>\n",
       "      <td>Oct 7</td>\n",
       "      <td>September 2022</td>\n",
       "      <td>NaN</td>\n",
       "      <td>NaN</td>\n",
       "      <td>NaN</td>\n",
       "      <td>September</td>\n",
       "      <td>2022</td>\n",
       "      <td>NaN</td>\n",
       "      <td>NaN</td>\n",
       "    </tr>\n",
       "  </tbody>\n",
       "</table>\n",
       "</div>"
      ],
      "text/plain": [
       "    reviewid  rate                                              topic  \\\n",
       "0  864403480     5                     Third Time, Love this Hotel!!!   \n",
       "1  864278516     5       Beautiful property and very responsive staff   \n",
       "2  864163368     5                 Phenomenal, planning our next stay   \n",
       "3  863854863     5                                Great beach & Pools   \n",
       "4  863586715     1  Valet keyed our rental car, resort refuses to ...   \n",
       "\n",
       "                                              review review_date  \\\n",
       "0  This was our third time staying at the Andaz M...      Oct 12   \n",
       "1  The hotel is great for family with little ones...      Oct 12   \n",
       "2  Our stay was phenomenal - early check in, was ...      Oct 11   \n",
       "3  The best beach ever, so much to offer on the p...       Oct 9   \n",
       "4  Valet keyed our rental car, resort refuses to ...       Oct 7   \n",
       "\n",
       "        stay_date trip_type room_tip                   origin stay_month  \\\n",
       "0    October 2022       NaN      NaN      Frankfort, Illinois    October   \n",
       "1    October 2022       NaN      NaN  New York City, New York    October   \n",
       "2    October 2022       NaN      NaN                      NaN    October   \n",
       "3  September 2022       NaN      NaN                      NaN  September   \n",
       "4  September 2022       NaN      NaN                      NaN  September   \n",
       "\n",
       "  stay_year web-scraper-start-url name  \n",
       "0      2022                   NaN  NaN  \n",
       "1      2022                   NaN  NaN  \n",
       "2      2022                   NaN  NaN  \n",
       "3      2022                   NaN  NaN  \n",
       "4      2022                   NaN  NaN  "
      ]
     },
     "execution_count": 61,
     "metadata": {},
     "output_type": "execute_result"
    }
   ],
   "source": [
    "hawii_all_df.head()"
   ]
  },
  {
   "cell_type": "code",
   "execution_count": 62,
   "metadata": {},
   "outputs": [],
   "source": [
    "hawii_clean_df = hawii_all_df.drop(labels=['web-scraper-start-url','name'], axis=1)\n"
   ]
  },
  {
   "cell_type": "code",
   "execution_count": 68,
   "metadata": {},
   "outputs": [],
   "source": [
    "hawii_clean_df[['review_month', 'review_year']] = hawii_clean_df['review_date'].str.split(' ', 1, expand=True)\n"
   ]
  },
  {
   "cell_type": "code",
   "execution_count": 81,
   "metadata": {},
   "outputs": [],
   "source": [
    "def clean_reviewdate(x):\n",
    "  # if isinstance(x,float) | isinstance(x,int):\n",
    "  #   x = x.str\n",
    "  if len(str(x)) < 4:\n",
    "    return 2022\n",
    "  \n",
    "  return x"
   ]
  },
  {
   "cell_type": "code",
   "execution_count": 78,
   "metadata": {},
   "outputs": [
    {
     "data": {
      "text/plain": [
       "array(['Oct 12', 'Oct 11', 'Oct 9', 'Oct 7', 'Oct 6', 'Oct 5', 'Oct 4',\n",
       "       'Oct 3', 'Sep 2022', 'Aug 2022', 'Jul 2022', 'Jun 2022',\n",
       "       'May 2022', 'Apr 2022', 'Mar 2022', 'Feb 2022', 'Jan 2022',\n",
       "       'Dec 2021', 'Nov 2021', 'Oct 2021', 'Sep 2021', 'Aug 2021',\n",
       "       'Jul 2021', 'Jun 2021', 'May 2021', 'Apr 2021', 'Mar 2021',\n",
       "       'Feb 2021', 'Jan 2021', 'Dec 2020', 'Nov 2020', 'Sep 2020',\n",
       "       'Aug 2020', 'Mar 2020', 'Feb 2020', 'Jan 2020', 'Dec 2019',\n",
       "       'Nov 2019', 'Oct 2019', 'Sep 2019', 'Aug 2019', 'Jul 2019',\n",
       "       'Jun 2019', 'May 2019', 'Apr 2019', 'Mar 2019', 'Feb 2019',\n",
       "       'Jan 2019', 'Dec 2018', 'Nov 2018', 'Oct 2018', 'Sep 2018',\n",
       "       'Aug 2018', 'Jul 2018', 'Jun 2018', 'May 2018', 'Apr 2018',\n",
       "       'Mar 2018', 'Feb 2018', 'Jan 2018', 'Dec 2017', 'Nov 2017',\n",
       "       'Oct 2017', 'Sep 2017', 'Aug 2017', 'Jul 2017', 'Jun 2017',\n",
       "       'May 2017', 'Apr 2017', 'Mar 2017', 'Feb 2017', 'Jan 2017',\n",
       "       'Dec 2016', 'Nov 2016', 'Oct 2016', 'Sep 2016', 'Aug 2016',\n",
       "       'Jul 2016', 'Jun 2016', 'May 2016', 'Apr 2016', 'Mar 2016',\n",
       "       'Feb 2016', 'Jan 2016', 'Dec 2015', 'Nov 2015', 'Oct 2015',\n",
       "       'Sep 2015', 'Aug 2015', 'Jul 2015', 'Jun 2015', 'May 2015',\n",
       "       'Apr 2015', 'Mar 2015', 'Feb 2015', 'Jan 2015', 'Dec 2014',\n",
       "       'Nov 2014', 'Oct 2014', 'Sep 2014', 'Aug 2014', 'Jul 2014',\n",
       "       'Jun 2014', 'May 2014', 'Apr 2014', 'Mar 2014', 'Feb 2014',\n",
       "       'Jan 2014', 'Dec 2013', 'Nov 2013', 'Oct 2013', 'Sep 2013',\n",
       "       'Aug 2013', 'Oct 8', 'May 2020', 'Jul 2013', 'Jun 2013',\n",
       "       'May 2013', 'Apr 2013', 'Mar 2013', 'Feb 2013', 'Jan 2013',\n",
       "       'Dec 2012', 'Nov 2012', 'Oct 2012', 'Sep 2012', 'Aug 2012',\n",
       "       'Jul 2012', 'Jun 2012', 'May 2012', 'Apr 2012', 'Mar 2012',\n",
       "       'Feb 2012', 'Jan 2012', 'Dec 2011', 'Nov 2011', 'Oct 2011',\n",
       "       'Sep 2011', 'Aug 2011', 'Jul 2011', 'Jun 2011', 'May 2011',\n",
       "       'Apr 2011', 'Mar 2011', 'Feb 2011', 'Jan 2011', 'Dec 2010',\n",
       "       'Nov 2010', 'Oct 2010', 'Sep 2010', 'Aug 2010', 'Jul 2010',\n",
       "       'Jun 2010', 'May 2010', 'Apr 2010', 'Mar 2010', 'Feb 2010',\n",
       "       'Jan 2010', 'Dec 2009', 'Nov 2009', 'Oct 2009', 'Sep 2009',\n",
       "       'Aug 2009', 'Jul 2009', 'Jun 2009', 'May 2009', 'Apr 2009',\n",
       "       'Mar 2009', 'Feb 2009', 'Jan 2009', 'Dec 2008', 'Nov 2008',\n",
       "       'Oct 2008', 'Sep 2008', 'Aug 2008', 'Jul 2008', 'Jun 2008',\n",
       "       'May 2008', 'Apr 2008', 'Mar 2008', 'Feb 2008', 'Jan 2008',\n",
       "       'Dec 2007', 'Nov 2007', 'Oct 2007', 'Sep 2007', 'Aug 2007',\n",
       "       'Jul 2007', 'Jun 2007', 'May 2007', 'Apr 2007', 'Mar 2007',\n",
       "       'Feb 2007', 'Jan 2007', 'Dec 2006', 'Nov 2006', 'Oct 2006',\n",
       "       'Sep 2006', 'Aug 2006', 'Jul 2006', 'Jun 2006', 'May 2006',\n",
       "       'Apr 2006', 'Mar 2006', 'Feb 2006', 'Jan 2006', 'Dec 2005',\n",
       "       'Nov 2005', 'Oct 2005', 'Sep 2005', 'Aug 2005', 'Jul 2005',\n",
       "       'Jun 2005', 'May 2005', 'Apr 2005', 'Mar 2005', 'Feb 2005',\n",
       "       'Jan 2005', 'Dec 2004', 'Nov 2004', 'Oct 2004', 'Sep 2004',\n",
       "       'Aug 2004', 'Jul 2004', 'Jun 2004', 'May 2004', 'Apr 2004',\n",
       "       'Feb 2004', 'Jan 2004', 'Dec 2003', 'Nov 2003', 'Oct 2003',\n",
       "       'Sep 2003', 'Aug 2003', 'May 2003', 'Mar 2003', 'Feb 2003',\n",
       "       'Jan 2003', 'Jul 2002', 'Oct 2020', 'Jul 2020', 'Apr 2020',\n",
       "       'Oct 1', 'Jun 2020', 'Mar 2004', 'Jul 2003', 'Jun 2003',\n",
       "       'Apr 2003', 'Oct 2002', 'May 2002', 'Feb 2002', 'Dec 2001',\n",
       "       'Oct 10', 'Sep 2002', 'Oct 2', 'Aug 2002', 'Nov 2002', 'Dec 2002',\n",
       "       nan], dtype=object)"
      ]
     },
     "execution_count": 78,
     "metadata": {},
     "output_type": "execute_result"
    }
   ],
   "source": [
    "hawii_clean_df['review_date'].unique()"
   ]
  },
  {
   "cell_type": "code",
   "execution_count": 82,
   "metadata": {},
   "outputs": [
    {
     "ename": "AttributeError",
     "evalue": "'float' object has no attribute 'str'",
     "output_type": "error",
     "traceback": [
      "\u001b[1;31m---------------------------------------------------------------------------\u001b[0m",
      "\u001b[1;31mAttributeError\u001b[0m                            Traceback (most recent call last)",
      "\u001b[1;32m<ipython-input-82-d15e5df8751c>\u001b[0m in \u001b[0;36m<module>\u001b[1;34m\u001b[0m\n\u001b[1;32m----> 1\u001b[1;33m \u001b[0mhawii_clean_df\u001b[0m\u001b[1;33m[\u001b[0m\u001b[1;34m'review_year'\u001b[0m\u001b[1;33m]\u001b[0m \u001b[1;33m=\u001b[0m \u001b[0mhawii_clean_df\u001b[0m\u001b[1;33m[\u001b[0m\u001b[1;34m'review_year'\u001b[0m\u001b[1;33m]\u001b[0m\u001b[1;33m.\u001b[0m\u001b[0mapply\u001b[0m\u001b[1;33m(\u001b[0m\u001b[0mclean_reviewdate\u001b[0m\u001b[1;33m)\u001b[0m\u001b[1;33m\u001b[0m\u001b[1;33m\u001b[0m\u001b[0m\n\u001b[0m",
      "\u001b[1;32mc:\\Users\\Sucha\\AppData\\Local\\Programs\\Python\\Python39\\lib\\site-packages\\pandas\\core\\series.py\u001b[0m in \u001b[0;36mapply\u001b[1;34m(self, func, convert_dtype, args, **kwds)\u001b[0m\n\u001b[0;32m   4133\u001b[0m             \u001b[1;32melse\u001b[0m\u001b[1;33m:\u001b[0m\u001b[1;33m\u001b[0m\u001b[1;33m\u001b[0m\u001b[0m\n\u001b[0;32m   4134\u001b[0m                 \u001b[0mvalues\u001b[0m \u001b[1;33m=\u001b[0m \u001b[0mself\u001b[0m\u001b[1;33m.\u001b[0m\u001b[0mastype\u001b[0m\u001b[1;33m(\u001b[0m\u001b[0mobject\u001b[0m\u001b[1;33m)\u001b[0m\u001b[1;33m.\u001b[0m\u001b[0m_values\u001b[0m\u001b[1;33m\u001b[0m\u001b[1;33m\u001b[0m\u001b[0m\n\u001b[1;32m-> 4135\u001b[1;33m                 \u001b[0mmapped\u001b[0m \u001b[1;33m=\u001b[0m \u001b[0mlib\u001b[0m\u001b[1;33m.\u001b[0m\u001b[0mmap_infer\u001b[0m\u001b[1;33m(\u001b[0m\u001b[0mvalues\u001b[0m\u001b[1;33m,\u001b[0m \u001b[0mf\u001b[0m\u001b[1;33m,\u001b[0m \u001b[0mconvert\u001b[0m\u001b[1;33m=\u001b[0m\u001b[0mconvert_dtype\u001b[0m\u001b[1;33m)\u001b[0m\u001b[1;33m\u001b[0m\u001b[1;33m\u001b[0m\u001b[0m\n\u001b[0m\u001b[0;32m   4136\u001b[0m \u001b[1;33m\u001b[0m\u001b[0m\n\u001b[0;32m   4137\u001b[0m         \u001b[1;32mif\u001b[0m \u001b[0mlen\u001b[0m\u001b[1;33m(\u001b[0m\u001b[0mmapped\u001b[0m\u001b[1;33m)\u001b[0m \u001b[1;32mand\u001b[0m \u001b[0misinstance\u001b[0m\u001b[1;33m(\u001b[0m\u001b[0mmapped\u001b[0m\u001b[1;33m[\u001b[0m\u001b[1;36m0\u001b[0m\u001b[1;33m]\u001b[0m\u001b[1;33m,\u001b[0m \u001b[0mSeries\u001b[0m\u001b[1;33m)\u001b[0m\u001b[1;33m:\u001b[0m\u001b[1;33m\u001b[0m\u001b[1;33m\u001b[0m\u001b[0m\n",
      "\u001b[1;32mpandas\\_libs\\lib.pyx\u001b[0m in \u001b[0;36mpandas._libs.lib.map_infer\u001b[1;34m()\u001b[0m\n",
      "\u001b[1;32m<ipython-input-81-1ebc7f588e95>\u001b[0m in \u001b[0;36mclean_reviewdate\u001b[1;34m(x)\u001b[0m\n\u001b[0;32m      1\u001b[0m \u001b[1;32mdef\u001b[0m \u001b[0mclean_reviewdate\u001b[0m\u001b[1;33m(\u001b[0m\u001b[0mx\u001b[0m\u001b[1;33m)\u001b[0m\u001b[1;33m:\u001b[0m\u001b[1;33m\u001b[0m\u001b[1;33m\u001b[0m\u001b[0m\n\u001b[0;32m      2\u001b[0m   \u001b[1;32mif\u001b[0m \u001b[0misinstance\u001b[0m\u001b[1;33m(\u001b[0m\u001b[0mx\u001b[0m\u001b[1;33m,\u001b[0m\u001b[0mfloat\u001b[0m\u001b[1;33m)\u001b[0m \u001b[1;33m|\u001b[0m \u001b[0misinstance\u001b[0m\u001b[1;33m(\u001b[0m\u001b[0mx\u001b[0m\u001b[1;33m,\u001b[0m\u001b[0mint\u001b[0m\u001b[1;33m)\u001b[0m\u001b[1;33m:\u001b[0m\u001b[1;33m\u001b[0m\u001b[1;33m\u001b[0m\u001b[0m\n\u001b[1;32m----> 3\u001b[1;33m     \u001b[0mx\u001b[0m \u001b[1;33m=\u001b[0m \u001b[0mx\u001b[0m\u001b[1;33m.\u001b[0m\u001b[0mstr\u001b[0m\u001b[1;33m\u001b[0m\u001b[1;33m\u001b[0m\u001b[0m\n\u001b[0m\u001b[0;32m      4\u001b[0m     \u001b[1;32mif\u001b[0m \u001b[0mlen\u001b[0m\u001b[1;33m(\u001b[0m\u001b[0mx\u001b[0m\u001b[1;33m)\u001b[0m \u001b[1;33m<\u001b[0m \u001b[1;36m4\u001b[0m\u001b[1;33m:\u001b[0m\u001b[1;33m\u001b[0m\u001b[1;33m\u001b[0m\u001b[0m\n\u001b[0;32m      5\u001b[0m       \u001b[1;32mreturn\u001b[0m \u001b[1;36m2022\u001b[0m\u001b[1;33m\u001b[0m\u001b[1;33m\u001b[0m\u001b[0m\n",
      "\u001b[1;31mAttributeError\u001b[0m: 'float' object has no attribute 'str'"
     ]
    }
   ],
   "source": [
    "hawii_clean_df['review_year'] = hawii_clean_df['review_year'].apply(clean_reviewdate)"
   ]
  },
  {
   "cell_type": "code",
   "execution_count": 71,
   "metadata": {},
   "outputs": [],
   "source": [
    "hawii_clean_df['stay_year'].fillna(hawii_clean_df['review_date'], inplace=True)"
   ]
  },
  {
   "cell_type": "code",
   "execution_count": 72,
   "metadata": {},
   "outputs": [
    {
     "data": {
      "text/plain": [
       "106"
      ]
     },
     "execution_count": 72,
     "metadata": {},
     "output_type": "execute_result"
    }
   ],
   "source": [
    "hawii_clean_df['stay_year'].isna().sum()"
   ]
  },
  {
   "cell_type": "code",
   "execution_count": 73,
   "metadata": {},
   "outputs": [
    {
     "data": {
      "text/plain": [
       "9217"
      ]
     },
     "execution_count": 73,
     "metadata": {},
     "output_type": "execute_result"
    }
   ],
   "source": [
    "hawii_clean_df['review_date'].isna().sum()"
   ]
  },
  {
   "cell_type": "code",
   "execution_count": null,
   "metadata": {},
   "outputs": [],
   "source": [
    "hawii_clean_df."
   ]
  },
  {
   "cell_type": "code",
   "execution_count": 63,
   "metadata": {},
   "outputs": [
    {
     "ename": "ValueError",
     "evalue": "cannot convert float NaN to integer",
     "output_type": "error",
     "traceback": [
      "\u001b[1;31m---------------------------------------------------------------------------\u001b[0m",
      "\u001b[1;31mValueError\u001b[0m                                Traceback (most recent call last)",
      "\u001b[1;32m<ipython-input-63-a0200028dd79>\u001b[0m in \u001b[0;36m<module>\u001b[1;34m\u001b[0m\n\u001b[0;32m      1\u001b[0m \u001b[1;31m# hawii_clean_df['stay_year'] = pd.to_datetime(hawii_clean_df['stay_year'])\u001b[0m\u001b[1;33m\u001b[0m\u001b[1;33m\u001b[0m\u001b[1;33m\u001b[0m\u001b[0m\n\u001b[1;32m----> 2\u001b[1;33m \u001b[0mhawii_clean_df\u001b[0m\u001b[1;33m[\u001b[0m\u001b[1;34m'stay_year'\u001b[0m\u001b[1;33m]\u001b[0m \u001b[1;33m=\u001b[0m \u001b[0mhawii_clean_df\u001b[0m\u001b[1;33m[\u001b[0m\u001b[1;34m'stay_year'\u001b[0m\u001b[1;33m]\u001b[0m\u001b[1;33m.\u001b[0m\u001b[0mastype\u001b[0m\u001b[1;33m(\u001b[0m\u001b[0mint\u001b[0m\u001b[1;33m)\u001b[0m\u001b[1;33m\u001b[0m\u001b[1;33m\u001b[0m\u001b[0m\n\u001b[0m",
      "\u001b[1;32mc:\\Users\\Sucha\\AppData\\Local\\Programs\\Python\\Python39\\lib\\site-packages\\pandas\\core\\generic.py\u001b[0m in \u001b[0;36mastype\u001b[1;34m(self, dtype, copy, errors)\u001b[0m\n\u001b[0;32m   5872\u001b[0m         \u001b[1;32melse\u001b[0m\u001b[1;33m:\u001b[0m\u001b[1;33m\u001b[0m\u001b[1;33m\u001b[0m\u001b[0m\n\u001b[0;32m   5873\u001b[0m             \u001b[1;31m# else, only a single dtype is given\u001b[0m\u001b[1;33m\u001b[0m\u001b[1;33m\u001b[0m\u001b[1;33m\u001b[0m\u001b[0m\n\u001b[1;32m-> 5874\u001b[1;33m             \u001b[0mnew_data\u001b[0m \u001b[1;33m=\u001b[0m \u001b[0mself\u001b[0m\u001b[1;33m.\u001b[0m\u001b[0m_mgr\u001b[0m\u001b[1;33m.\u001b[0m\u001b[0mastype\u001b[0m\u001b[1;33m(\u001b[0m\u001b[0mdtype\u001b[0m\u001b[1;33m=\u001b[0m\u001b[0mdtype\u001b[0m\u001b[1;33m,\u001b[0m \u001b[0mcopy\u001b[0m\u001b[1;33m=\u001b[0m\u001b[0mcopy\u001b[0m\u001b[1;33m,\u001b[0m \u001b[0merrors\u001b[0m\u001b[1;33m=\u001b[0m\u001b[0merrors\u001b[0m\u001b[1;33m)\u001b[0m\u001b[1;33m\u001b[0m\u001b[1;33m\u001b[0m\u001b[0m\n\u001b[0m\u001b[0;32m   5875\u001b[0m             \u001b[1;32mreturn\u001b[0m \u001b[0mself\u001b[0m\u001b[1;33m.\u001b[0m\u001b[0m_constructor\u001b[0m\u001b[1;33m(\u001b[0m\u001b[0mnew_data\u001b[0m\u001b[1;33m)\u001b[0m\u001b[1;33m.\u001b[0m\u001b[0m__finalize__\u001b[0m\u001b[1;33m(\u001b[0m\u001b[0mself\u001b[0m\u001b[1;33m,\u001b[0m \u001b[0mmethod\u001b[0m\u001b[1;33m=\u001b[0m\u001b[1;34m\"astype\"\u001b[0m\u001b[1;33m)\u001b[0m\u001b[1;33m\u001b[0m\u001b[1;33m\u001b[0m\u001b[0m\n\u001b[0;32m   5876\u001b[0m \u001b[1;33m\u001b[0m\u001b[0m\n",
      "\u001b[1;32mc:\\Users\\Sucha\\AppData\\Local\\Programs\\Python\\Python39\\lib\\site-packages\\pandas\\core\\internals\\managers.py\u001b[0m in \u001b[0;36mastype\u001b[1;34m(self, dtype, copy, errors)\u001b[0m\n\u001b[0;32m    629\u001b[0m         \u001b[0mself\u001b[0m\u001b[1;33m,\u001b[0m \u001b[0mdtype\u001b[0m\u001b[1;33m,\u001b[0m \u001b[0mcopy\u001b[0m\u001b[1;33m:\u001b[0m \u001b[0mbool\u001b[0m \u001b[1;33m=\u001b[0m \u001b[1;32mFalse\u001b[0m\u001b[1;33m,\u001b[0m \u001b[0merrors\u001b[0m\u001b[1;33m:\u001b[0m \u001b[0mstr\u001b[0m \u001b[1;33m=\u001b[0m \u001b[1;34m\"raise\"\u001b[0m\u001b[1;33m\u001b[0m\u001b[1;33m\u001b[0m\u001b[0m\n\u001b[0;32m    630\u001b[0m     ) -> \"BlockManager\":\n\u001b[1;32m--> 631\u001b[1;33m         \u001b[1;32mreturn\u001b[0m \u001b[0mself\u001b[0m\u001b[1;33m.\u001b[0m\u001b[0mapply\u001b[0m\u001b[1;33m(\u001b[0m\u001b[1;34m\"astype\"\u001b[0m\u001b[1;33m,\u001b[0m \u001b[0mdtype\u001b[0m\u001b[1;33m=\u001b[0m\u001b[0mdtype\u001b[0m\u001b[1;33m,\u001b[0m \u001b[0mcopy\u001b[0m\u001b[1;33m=\u001b[0m\u001b[0mcopy\u001b[0m\u001b[1;33m,\u001b[0m \u001b[0merrors\u001b[0m\u001b[1;33m=\u001b[0m\u001b[0merrors\u001b[0m\u001b[1;33m)\u001b[0m\u001b[1;33m\u001b[0m\u001b[1;33m\u001b[0m\u001b[0m\n\u001b[0m\u001b[0;32m    632\u001b[0m \u001b[1;33m\u001b[0m\u001b[0m\n\u001b[0;32m    633\u001b[0m     def convert(\n",
      "\u001b[1;32mc:\\Users\\Sucha\\AppData\\Local\\Programs\\Python\\Python39\\lib\\site-packages\\pandas\\core\\internals\\managers.py\u001b[0m in \u001b[0;36mapply\u001b[1;34m(self, f, align_keys, ignore_failures, **kwargs)\u001b[0m\n\u001b[0;32m    425\u001b[0m                     \u001b[0mapplied\u001b[0m \u001b[1;33m=\u001b[0m \u001b[0mb\u001b[0m\u001b[1;33m.\u001b[0m\u001b[0mapply\u001b[0m\u001b[1;33m(\u001b[0m\u001b[0mf\u001b[0m\u001b[1;33m,\u001b[0m \u001b[1;33m**\u001b[0m\u001b[0mkwargs\u001b[0m\u001b[1;33m)\u001b[0m\u001b[1;33m\u001b[0m\u001b[1;33m\u001b[0m\u001b[0m\n\u001b[0;32m    426\u001b[0m                 \u001b[1;32melse\u001b[0m\u001b[1;33m:\u001b[0m\u001b[1;33m\u001b[0m\u001b[1;33m\u001b[0m\u001b[0m\n\u001b[1;32m--> 427\u001b[1;33m                     \u001b[0mapplied\u001b[0m \u001b[1;33m=\u001b[0m \u001b[0mgetattr\u001b[0m\u001b[1;33m(\u001b[0m\u001b[0mb\u001b[0m\u001b[1;33m,\u001b[0m \u001b[0mf\u001b[0m\u001b[1;33m)\u001b[0m\u001b[1;33m(\u001b[0m\u001b[1;33m**\u001b[0m\u001b[0mkwargs\u001b[0m\u001b[1;33m)\u001b[0m\u001b[1;33m\u001b[0m\u001b[1;33m\u001b[0m\u001b[0m\n\u001b[0m\u001b[0;32m    428\u001b[0m             \u001b[1;32mexcept\u001b[0m \u001b[1;33m(\u001b[0m\u001b[0mTypeError\u001b[0m\u001b[1;33m,\u001b[0m \u001b[0mNotImplementedError\u001b[0m\u001b[1;33m)\u001b[0m\u001b[1;33m:\u001b[0m\u001b[1;33m\u001b[0m\u001b[1;33m\u001b[0m\u001b[0m\n\u001b[0;32m    429\u001b[0m                 \u001b[1;32mif\u001b[0m \u001b[1;32mnot\u001b[0m \u001b[0mignore_failures\u001b[0m\u001b[1;33m:\u001b[0m\u001b[1;33m\u001b[0m\u001b[1;33m\u001b[0m\u001b[0m\n",
      "\u001b[1;32mc:\\Users\\Sucha\\AppData\\Local\\Programs\\Python\\Python39\\lib\\site-packages\\pandas\\core\\internals\\blocks.py\u001b[0m in \u001b[0;36mastype\u001b[1;34m(self, dtype, copy, errors)\u001b[0m\n\u001b[0;32m    671\u001b[0m             \u001b[0mvals1d\u001b[0m \u001b[1;33m=\u001b[0m \u001b[0mvalues\u001b[0m\u001b[1;33m.\u001b[0m\u001b[0mravel\u001b[0m\u001b[1;33m(\u001b[0m\u001b[1;33m)\u001b[0m\u001b[1;33m\u001b[0m\u001b[1;33m\u001b[0m\u001b[0m\n\u001b[0;32m    672\u001b[0m             \u001b[1;32mtry\u001b[0m\u001b[1;33m:\u001b[0m\u001b[1;33m\u001b[0m\u001b[1;33m\u001b[0m\u001b[0m\n\u001b[1;32m--> 673\u001b[1;33m                 \u001b[0mvalues\u001b[0m \u001b[1;33m=\u001b[0m \u001b[0mastype_nansafe\u001b[0m\u001b[1;33m(\u001b[0m\u001b[0mvals1d\u001b[0m\u001b[1;33m,\u001b[0m \u001b[0mdtype\u001b[0m\u001b[1;33m,\u001b[0m \u001b[0mcopy\u001b[0m\u001b[1;33m=\u001b[0m\u001b[1;32mTrue\u001b[0m\u001b[1;33m)\u001b[0m\u001b[1;33m\u001b[0m\u001b[1;33m\u001b[0m\u001b[0m\n\u001b[0m\u001b[0;32m    674\u001b[0m             \u001b[1;32mexcept\u001b[0m \u001b[1;33m(\u001b[0m\u001b[0mValueError\u001b[0m\u001b[1;33m,\u001b[0m \u001b[0mTypeError\u001b[0m\u001b[1;33m)\u001b[0m\u001b[1;33m:\u001b[0m\u001b[1;33m\u001b[0m\u001b[1;33m\u001b[0m\u001b[0m\n\u001b[0;32m    675\u001b[0m                 \u001b[1;31m# e.g. astype_nansafe can fail on object-dtype of strings\u001b[0m\u001b[1;33m\u001b[0m\u001b[1;33m\u001b[0m\u001b[1;33m\u001b[0m\u001b[0m\n",
      "\u001b[1;32mc:\\Users\\Sucha\\AppData\\Local\\Programs\\Python\\Python39\\lib\\site-packages\\pandas\\core\\dtypes\\cast.py\u001b[0m in \u001b[0;36mastype_nansafe\u001b[1;34m(arr, dtype, copy, skipna)\u001b[0m\n\u001b[0;32m   1072\u001b[0m         \u001b[1;31m# work around NumPy brokenness, #1987\u001b[0m\u001b[1;33m\u001b[0m\u001b[1;33m\u001b[0m\u001b[1;33m\u001b[0m\u001b[0m\n\u001b[0;32m   1073\u001b[0m         \u001b[1;32mif\u001b[0m \u001b[0mnp\u001b[0m\u001b[1;33m.\u001b[0m\u001b[0missubdtype\u001b[0m\u001b[1;33m(\u001b[0m\u001b[0mdtype\u001b[0m\u001b[1;33m.\u001b[0m\u001b[0mtype\u001b[0m\u001b[1;33m,\u001b[0m \u001b[0mnp\u001b[0m\u001b[1;33m.\u001b[0m\u001b[0minteger\u001b[0m\u001b[1;33m)\u001b[0m\u001b[1;33m:\u001b[0m\u001b[1;33m\u001b[0m\u001b[1;33m\u001b[0m\u001b[0m\n\u001b[1;32m-> 1074\u001b[1;33m             \u001b[1;32mreturn\u001b[0m \u001b[0mlib\u001b[0m\u001b[1;33m.\u001b[0m\u001b[0mastype_intsafe\u001b[0m\u001b[1;33m(\u001b[0m\u001b[0marr\u001b[0m\u001b[1;33m.\u001b[0m\u001b[0mravel\u001b[0m\u001b[1;33m(\u001b[0m\u001b[1;33m)\u001b[0m\u001b[1;33m,\u001b[0m \u001b[0mdtype\u001b[0m\u001b[1;33m)\u001b[0m\u001b[1;33m.\u001b[0m\u001b[0mreshape\u001b[0m\u001b[1;33m(\u001b[0m\u001b[0marr\u001b[0m\u001b[1;33m.\u001b[0m\u001b[0mshape\u001b[0m\u001b[1;33m)\u001b[0m\u001b[1;33m\u001b[0m\u001b[1;33m\u001b[0m\u001b[0m\n\u001b[0m\u001b[0;32m   1075\u001b[0m \u001b[1;33m\u001b[0m\u001b[0m\n\u001b[0;32m   1076\u001b[0m         \u001b[1;31m# if we have a datetime/timedelta array of objects\u001b[0m\u001b[1;33m\u001b[0m\u001b[1;33m\u001b[0m\u001b[1;33m\u001b[0m\u001b[0m\n",
      "\u001b[1;32mpandas\\_libs\\lib.pyx\u001b[0m in \u001b[0;36mpandas._libs.lib.astype_intsafe\u001b[1;34m()\u001b[0m\n",
      "\u001b[1;31mValueError\u001b[0m: cannot convert float NaN to integer"
     ]
    }
   ],
   "source": [
    "# hawii_clean_df['stay_year'] = pd.to_datetime(hawii_clean_df['stay_year'])\n",
    "hawii_clean_df['stay_year'] = hawii_clean_df['stay_year'].astype(int)"
   ]
  },
  {
   "cell_type": "code",
   "execution_count": null,
   "metadata": {},
   "outputs": [
    {
     "ename": "TypeError",
     "evalue": "Invalid comparison between dtype=datetime64[ns] and int",
     "output_type": "error",
     "traceback": [
      "\u001b[1;31m---------------------------------------------------------------------------\u001b[0m",
      "\u001b[1;31mInvalidComparison\u001b[0m                         Traceback (most recent call last)",
      "\u001b[1;32mc:\\Users\\Sucha\\AppData\\Local\\Programs\\Python\\Python39\\lib\\site-packages\\pandas\\core\\arrays\\datetimelike.py\u001b[0m in \u001b[0;36m_cmp_method\u001b[1;34m(self, other, op)\u001b[0m\n\u001b[0;32m    931\u001b[0m         \u001b[1;32mtry\u001b[0m\u001b[1;33m:\u001b[0m\u001b[1;33m\u001b[0m\u001b[1;33m\u001b[0m\u001b[0m\n\u001b[1;32m--> 932\u001b[1;33m             \u001b[0mother\u001b[0m \u001b[1;33m=\u001b[0m \u001b[0mself\u001b[0m\u001b[1;33m.\u001b[0m\u001b[0m_validate_comparison_value\u001b[0m\u001b[1;33m(\u001b[0m\u001b[0mother\u001b[0m\u001b[1;33m)\u001b[0m\u001b[1;33m\u001b[0m\u001b[1;33m\u001b[0m\u001b[0m\n\u001b[0m\u001b[0;32m    933\u001b[0m         \u001b[1;32mexcept\u001b[0m \u001b[0mInvalidComparison\u001b[0m\u001b[1;33m:\u001b[0m\u001b[1;33m\u001b[0m\u001b[1;33m\u001b[0m\u001b[0m\n",
      "\u001b[1;32mc:\\Users\\Sucha\\AppData\\Local\\Programs\\Python\\Python39\\lib\\site-packages\\pandas\\core\\arrays\\datetimelike.py\u001b[0m in \u001b[0;36m_validate_comparison_value\u001b[1;34m(self, other)\u001b[0m\n\u001b[0;32m    450\u001b[0m         \u001b[1;32melif\u001b[0m \u001b[1;32mnot\u001b[0m \u001b[0mis_list_like\u001b[0m\u001b[1;33m(\u001b[0m\u001b[0mother\u001b[0m\u001b[1;33m)\u001b[0m\u001b[1;33m:\u001b[0m\u001b[1;33m\u001b[0m\u001b[1;33m\u001b[0m\u001b[0m\n\u001b[1;32m--> 451\u001b[1;33m             \u001b[1;32mraise\u001b[0m \u001b[0mInvalidComparison\u001b[0m\u001b[1;33m(\u001b[0m\u001b[0mother\u001b[0m\u001b[1;33m)\u001b[0m\u001b[1;33m\u001b[0m\u001b[1;33m\u001b[0m\u001b[0m\n\u001b[0m\u001b[0;32m    452\u001b[0m \u001b[1;33m\u001b[0m\u001b[0m\n",
      "\u001b[1;31mInvalidComparison\u001b[0m: 2017",
      "\nDuring handling of the above exception, another exception occurred:\n",
      "\u001b[1;31mTypeError\u001b[0m                                 Traceback (most recent call last)",
      "\u001b[1;32m<ipython-input-38-872312e52d6a>\u001b[0m in \u001b[0;36m<module>\u001b[1;34m\u001b[0m\n\u001b[1;32m----> 1\u001b[1;33m \u001b[0mhawii_filter_df\u001b[0m \u001b[1;33m=\u001b[0m \u001b[0mhawii_clean_df\u001b[0m\u001b[1;33m[\u001b[0m\u001b[0mhawii_clean_df\u001b[0m\u001b[1;33m[\u001b[0m\u001b[1;34m'stay_year'\u001b[0m\u001b[1;33m]\u001b[0m \u001b[1;33m>=\u001b[0m  \u001b[1;36m2017\u001b[0m\u001b[1;33m]\u001b[0m\u001b[1;33m\u001b[0m\u001b[1;33m\u001b[0m\u001b[0m\n\u001b[0m",
      "\u001b[1;32mc:\\Users\\Sucha\\AppData\\Local\\Programs\\Python\\Python39\\lib\\site-packages\\pandas\\core\\ops\\common.py\u001b[0m in \u001b[0;36mnew_method\u001b[1;34m(self, other)\u001b[0m\n\u001b[0;32m     63\u001b[0m         \u001b[0mother\u001b[0m \u001b[1;33m=\u001b[0m \u001b[0mitem_from_zerodim\u001b[0m\u001b[1;33m(\u001b[0m\u001b[0mother\u001b[0m\u001b[1;33m)\u001b[0m\u001b[1;33m\u001b[0m\u001b[1;33m\u001b[0m\u001b[0m\n\u001b[0;32m     64\u001b[0m \u001b[1;33m\u001b[0m\u001b[0m\n\u001b[1;32m---> 65\u001b[1;33m         \u001b[1;32mreturn\u001b[0m \u001b[0mmethod\u001b[0m\u001b[1;33m(\u001b[0m\u001b[0mself\u001b[0m\u001b[1;33m,\u001b[0m \u001b[0mother\u001b[0m\u001b[1;33m)\u001b[0m\u001b[1;33m\u001b[0m\u001b[1;33m\u001b[0m\u001b[0m\n\u001b[0m\u001b[0;32m     66\u001b[0m \u001b[1;33m\u001b[0m\u001b[0m\n\u001b[0;32m     67\u001b[0m     \u001b[1;32mreturn\u001b[0m \u001b[0mnew_method\u001b[0m\u001b[1;33m\u001b[0m\u001b[1;33m\u001b[0m\u001b[0m\n",
      "\u001b[1;32mc:\\Users\\Sucha\\AppData\\Local\\Programs\\Python\\Python39\\lib\\site-packages\\pandas\\core\\arraylike.py\u001b[0m in \u001b[0;36m__ge__\u001b[1;34m(self, other)\u001b[0m\n\u001b[0;32m     47\u001b[0m     \u001b[1;33m@\u001b[0m\u001b[0munpack_zerodim_and_defer\u001b[0m\u001b[1;33m(\u001b[0m\u001b[1;34m\"__ge__\"\u001b[0m\u001b[1;33m)\u001b[0m\u001b[1;33m\u001b[0m\u001b[1;33m\u001b[0m\u001b[0m\n\u001b[0;32m     48\u001b[0m     \u001b[1;32mdef\u001b[0m \u001b[0m__ge__\u001b[0m\u001b[1;33m(\u001b[0m\u001b[0mself\u001b[0m\u001b[1;33m,\u001b[0m \u001b[0mother\u001b[0m\u001b[1;33m)\u001b[0m\u001b[1;33m:\u001b[0m\u001b[1;33m\u001b[0m\u001b[1;33m\u001b[0m\u001b[0m\n\u001b[1;32m---> 49\u001b[1;33m         \u001b[1;32mreturn\u001b[0m \u001b[0mself\u001b[0m\u001b[1;33m.\u001b[0m\u001b[0m_cmp_method\u001b[0m\u001b[1;33m(\u001b[0m\u001b[0mother\u001b[0m\u001b[1;33m,\u001b[0m \u001b[0moperator\u001b[0m\u001b[1;33m.\u001b[0m\u001b[0mge\u001b[0m\u001b[1;33m)\u001b[0m\u001b[1;33m\u001b[0m\u001b[1;33m\u001b[0m\u001b[0m\n\u001b[0m\u001b[0;32m     50\u001b[0m \u001b[1;33m\u001b[0m\u001b[0m\n\u001b[0;32m     51\u001b[0m     \u001b[1;31m# -------------------------------------------------------------\u001b[0m\u001b[1;33m\u001b[0m\u001b[1;33m\u001b[0m\u001b[1;33m\u001b[0m\u001b[0m\n",
      "\u001b[1;32mc:\\Users\\Sucha\\AppData\\Local\\Programs\\Python\\Python39\\lib\\site-packages\\pandas\\core\\series.py\u001b[0m in \u001b[0;36m_cmp_method\u001b[1;34m(self, other, op)\u001b[0m\n\u001b[0;32m   4973\u001b[0m         \u001b[0mrvalues\u001b[0m \u001b[1;33m=\u001b[0m \u001b[0mextract_array\u001b[0m\u001b[1;33m(\u001b[0m\u001b[0mother\u001b[0m\u001b[1;33m,\u001b[0m \u001b[0mextract_numpy\u001b[0m\u001b[1;33m=\u001b[0m\u001b[1;32mTrue\u001b[0m\u001b[1;33m)\u001b[0m\u001b[1;33m\u001b[0m\u001b[1;33m\u001b[0m\u001b[0m\n\u001b[0;32m   4974\u001b[0m \u001b[1;33m\u001b[0m\u001b[0m\n\u001b[1;32m-> 4975\u001b[1;33m         \u001b[0mres_values\u001b[0m \u001b[1;33m=\u001b[0m \u001b[0mops\u001b[0m\u001b[1;33m.\u001b[0m\u001b[0mcomparison_op\u001b[0m\u001b[1;33m(\u001b[0m\u001b[0mlvalues\u001b[0m\u001b[1;33m,\u001b[0m \u001b[0mrvalues\u001b[0m\u001b[1;33m,\u001b[0m \u001b[0mop\u001b[0m\u001b[1;33m)\u001b[0m\u001b[1;33m\u001b[0m\u001b[1;33m\u001b[0m\u001b[0m\n\u001b[0m\u001b[0;32m   4976\u001b[0m \u001b[1;33m\u001b[0m\u001b[0m\n\u001b[0;32m   4977\u001b[0m         \u001b[1;32mreturn\u001b[0m \u001b[0mself\u001b[0m\u001b[1;33m.\u001b[0m\u001b[0m_construct_result\u001b[0m\u001b[1;33m(\u001b[0m\u001b[0mres_values\u001b[0m\u001b[1;33m,\u001b[0m \u001b[0mname\u001b[0m\u001b[1;33m=\u001b[0m\u001b[0mres_name\u001b[0m\u001b[1;33m)\u001b[0m\u001b[1;33m\u001b[0m\u001b[1;33m\u001b[0m\u001b[0m\n",
      "\u001b[1;32mc:\\Users\\Sucha\\AppData\\Local\\Programs\\Python\\Python39\\lib\\site-packages\\pandas\\core\\ops\\array_ops.py\u001b[0m in \u001b[0;36mcomparison_op\u001b[1;34m(left, right, op)\u001b[0m\n\u001b[0;32m    227\u001b[0m     \u001b[1;32mif\u001b[0m \u001b[0mshould_extension_dispatch\u001b[0m\u001b[1;33m(\u001b[0m\u001b[0mlvalues\u001b[0m\u001b[1;33m,\u001b[0m \u001b[0mrvalues\u001b[0m\u001b[1;33m)\u001b[0m\u001b[1;33m:\u001b[0m\u001b[1;33m\u001b[0m\u001b[1;33m\u001b[0m\u001b[0m\n\u001b[0;32m    228\u001b[0m         \u001b[1;31m# Call the method on lvalues\u001b[0m\u001b[1;33m\u001b[0m\u001b[1;33m\u001b[0m\u001b[1;33m\u001b[0m\u001b[0m\n\u001b[1;32m--> 229\u001b[1;33m         \u001b[0mres_values\u001b[0m \u001b[1;33m=\u001b[0m \u001b[0mop\u001b[0m\u001b[1;33m(\u001b[0m\u001b[0mlvalues\u001b[0m\u001b[1;33m,\u001b[0m \u001b[0mrvalues\u001b[0m\u001b[1;33m)\u001b[0m\u001b[1;33m\u001b[0m\u001b[1;33m\u001b[0m\u001b[0m\n\u001b[0m\u001b[0;32m    230\u001b[0m \u001b[1;33m\u001b[0m\u001b[0m\n\u001b[0;32m    231\u001b[0m     \u001b[1;32melif\u001b[0m \u001b[0mis_scalar\u001b[0m\u001b[1;33m(\u001b[0m\u001b[0mrvalues\u001b[0m\u001b[1;33m)\u001b[0m \u001b[1;32mand\u001b[0m \u001b[0misna\u001b[0m\u001b[1;33m(\u001b[0m\u001b[0mrvalues\u001b[0m\u001b[1;33m)\u001b[0m\u001b[1;33m:\u001b[0m\u001b[1;33m\u001b[0m\u001b[1;33m\u001b[0m\u001b[0m\n",
      "\u001b[1;32mc:\\Users\\Sucha\\AppData\\Local\\Programs\\Python\\Python39\\lib\\site-packages\\pandas\\core\\ops\\common.py\u001b[0m in \u001b[0;36mnew_method\u001b[1;34m(self, other)\u001b[0m\n\u001b[0;32m     63\u001b[0m         \u001b[0mother\u001b[0m \u001b[1;33m=\u001b[0m \u001b[0mitem_from_zerodim\u001b[0m\u001b[1;33m(\u001b[0m\u001b[0mother\u001b[0m\u001b[1;33m)\u001b[0m\u001b[1;33m\u001b[0m\u001b[1;33m\u001b[0m\u001b[0m\n\u001b[0;32m     64\u001b[0m \u001b[1;33m\u001b[0m\u001b[0m\n\u001b[1;32m---> 65\u001b[1;33m         \u001b[1;32mreturn\u001b[0m \u001b[0mmethod\u001b[0m\u001b[1;33m(\u001b[0m\u001b[0mself\u001b[0m\u001b[1;33m,\u001b[0m \u001b[0mother\u001b[0m\u001b[1;33m)\u001b[0m\u001b[1;33m\u001b[0m\u001b[1;33m\u001b[0m\u001b[0m\n\u001b[0m\u001b[0;32m     66\u001b[0m \u001b[1;33m\u001b[0m\u001b[0m\n\u001b[0;32m     67\u001b[0m     \u001b[1;32mreturn\u001b[0m \u001b[0mnew_method\u001b[0m\u001b[1;33m\u001b[0m\u001b[1;33m\u001b[0m\u001b[0m\n",
      "\u001b[1;32mc:\\Users\\Sucha\\AppData\\Local\\Programs\\Python\\Python39\\lib\\site-packages\\pandas\\core\\arraylike.py\u001b[0m in \u001b[0;36m__ge__\u001b[1;34m(self, other)\u001b[0m\n\u001b[0;32m     47\u001b[0m     \u001b[1;33m@\u001b[0m\u001b[0munpack_zerodim_and_defer\u001b[0m\u001b[1;33m(\u001b[0m\u001b[1;34m\"__ge__\"\u001b[0m\u001b[1;33m)\u001b[0m\u001b[1;33m\u001b[0m\u001b[1;33m\u001b[0m\u001b[0m\n\u001b[0;32m     48\u001b[0m     \u001b[1;32mdef\u001b[0m \u001b[0m__ge__\u001b[0m\u001b[1;33m(\u001b[0m\u001b[0mself\u001b[0m\u001b[1;33m,\u001b[0m \u001b[0mother\u001b[0m\u001b[1;33m)\u001b[0m\u001b[1;33m:\u001b[0m\u001b[1;33m\u001b[0m\u001b[1;33m\u001b[0m\u001b[0m\n\u001b[1;32m---> 49\u001b[1;33m         \u001b[1;32mreturn\u001b[0m \u001b[0mself\u001b[0m\u001b[1;33m.\u001b[0m\u001b[0m_cmp_method\u001b[0m\u001b[1;33m(\u001b[0m\u001b[0mother\u001b[0m\u001b[1;33m,\u001b[0m \u001b[0moperator\u001b[0m\u001b[1;33m.\u001b[0m\u001b[0mge\u001b[0m\u001b[1;33m)\u001b[0m\u001b[1;33m\u001b[0m\u001b[1;33m\u001b[0m\u001b[0m\n\u001b[0m\u001b[0;32m     50\u001b[0m \u001b[1;33m\u001b[0m\u001b[0m\n\u001b[0;32m     51\u001b[0m     \u001b[1;31m# -------------------------------------------------------------\u001b[0m\u001b[1;33m\u001b[0m\u001b[1;33m\u001b[0m\u001b[1;33m\u001b[0m\u001b[0m\n",
      "\u001b[1;32mc:\\Users\\Sucha\\AppData\\Local\\Programs\\Python\\Python39\\lib\\site-packages\\pandas\\core\\arrays\\datetimelike.py\u001b[0m in \u001b[0;36m_cmp_method\u001b[1;34m(self, other, op)\u001b[0m\n\u001b[0;32m    932\u001b[0m             \u001b[0mother\u001b[0m \u001b[1;33m=\u001b[0m \u001b[0mself\u001b[0m\u001b[1;33m.\u001b[0m\u001b[0m_validate_comparison_value\u001b[0m\u001b[1;33m(\u001b[0m\u001b[0mother\u001b[0m\u001b[1;33m)\u001b[0m\u001b[1;33m\u001b[0m\u001b[1;33m\u001b[0m\u001b[0m\n\u001b[0;32m    933\u001b[0m         \u001b[1;32mexcept\u001b[0m \u001b[0mInvalidComparison\u001b[0m\u001b[1;33m:\u001b[0m\u001b[1;33m\u001b[0m\u001b[1;33m\u001b[0m\u001b[0m\n\u001b[1;32m--> 934\u001b[1;33m             \u001b[1;32mreturn\u001b[0m \u001b[0minvalid_comparison\u001b[0m\u001b[1;33m(\u001b[0m\u001b[0mself\u001b[0m\u001b[1;33m,\u001b[0m \u001b[0mother\u001b[0m\u001b[1;33m,\u001b[0m \u001b[0mop\u001b[0m\u001b[1;33m)\u001b[0m\u001b[1;33m\u001b[0m\u001b[1;33m\u001b[0m\u001b[0m\n\u001b[0m\u001b[0;32m    935\u001b[0m \u001b[1;33m\u001b[0m\u001b[0m\n\u001b[0;32m    936\u001b[0m         \u001b[0mdtype\u001b[0m \u001b[1;33m=\u001b[0m \u001b[0mgetattr\u001b[0m\u001b[1;33m(\u001b[0m\u001b[0mother\u001b[0m\u001b[1;33m,\u001b[0m \u001b[1;34m\"dtype\"\u001b[0m\u001b[1;33m,\u001b[0m \u001b[1;32mNone\u001b[0m\u001b[1;33m)\u001b[0m\u001b[1;33m\u001b[0m\u001b[1;33m\u001b[0m\u001b[0m\n",
      "\u001b[1;32mc:\\Users\\Sucha\\AppData\\Local\\Programs\\Python\\Python39\\lib\\site-packages\\pandas\\core\\ops\\invalid.py\u001b[0m in \u001b[0;36minvalid_comparison\u001b[1;34m(left, right, op)\u001b[0m\n\u001b[0;32m     32\u001b[0m     \u001b[1;32melse\u001b[0m\u001b[1;33m:\u001b[0m\u001b[1;33m\u001b[0m\u001b[1;33m\u001b[0m\u001b[0m\n\u001b[0;32m     33\u001b[0m         \u001b[0mtyp\u001b[0m \u001b[1;33m=\u001b[0m \u001b[0mtype\u001b[0m\u001b[1;33m(\u001b[0m\u001b[0mright\u001b[0m\u001b[1;33m)\u001b[0m\u001b[1;33m.\u001b[0m\u001b[0m__name__\u001b[0m\u001b[1;33m\u001b[0m\u001b[1;33m\u001b[0m\u001b[0m\n\u001b[1;32m---> 34\u001b[1;33m         \u001b[1;32mraise\u001b[0m \u001b[0mTypeError\u001b[0m\u001b[1;33m(\u001b[0m\u001b[1;34mf\"Invalid comparison between dtype={left.dtype} and {typ}\"\u001b[0m\u001b[1;33m)\u001b[0m\u001b[1;33m\u001b[0m\u001b[1;33m\u001b[0m\u001b[0m\n\u001b[0m\u001b[0;32m     35\u001b[0m     \u001b[1;32mreturn\u001b[0m \u001b[0mres_values\u001b[0m\u001b[1;33m\u001b[0m\u001b[1;33m\u001b[0m\u001b[0m\n\u001b[0;32m     36\u001b[0m \u001b[1;33m\u001b[0m\u001b[0m\n",
      "\u001b[1;31mTypeError\u001b[0m: Invalid comparison between dtype=datetime64[ns] and int"
     ]
    }
   ],
   "source": [
    "hawii_filter_df = hawii_clean_df[hawii_clean_df['stay_year'] >=  2017]"
   ]
  },
  {
   "cell_type": "markdown",
   "metadata": {},
   "source": [
    "_______________________"
   ]
  },
  {
   "cell_type": "markdown",
   "metadata": {},
   "source": [
    "### Manual/ Backup code"
   ]
  },
  {
   "cell_type": "code",
   "execution_count": null,
   "metadata": {},
   "outputs": [],
   "source": [
    "# cnx_df = pd.read_csv(r\"E:\\DSC\\BA\\assignment_hotel\\TripAdvisor\\data\\cnx_hotel_reviews.csv\")\n",
    "# cnx_df.head(1)"
   ]
  },
  {
   "cell_type": "code",
   "execution_count": null,
   "metadata": {},
   "outputs": [],
   "source": [
    "# cnx_df['rate'].unique()"
   ]
  },
  {
   "cell_type": "code",
   "execution_count": null,
   "metadata": {},
   "outputs": [],
   "source": [
    "# import numpy as np\n",
    "\n",
    "\n",
    "# def rate_prep(x: str):\n",
    "#   if not isinstance(x, str):\n",
    "#     return None\n",
    "#   return x.split('ui_bubble_rating bubble_')[1]\n",
    "\n",
    "# def stay_prep(x: str):\n",
    "#   if not isinstance(x, str):\n",
    "#     return None\n",
    "#   return x.split(':')[1].strip()\n",
    "\n",
    "# def triptype_prep(x: str):\n",
    "#   if not isinstance(x, str):\n",
    "#     return None\n",
    "#   return x.split(':')[1].strip()\n",
    "\n",
    "# def review_prep(x: str):\n",
    "#   if not isinstance(x, str):\n",
    "#     return None\n",
    "#   return x.replace('\\n','').strip()\n",
    "\n",
    "# def review_origin(x: str):\n",
    "#   if not isinstance(x, str) or x=='1 contribution':\n",
    "#     return None\n",
    "  \n",
    "#   return x.split(' contributions')[0].rstrip('0123456789')"
   ]
  },
  {
   "cell_type": "code",
   "execution_count": null,
   "metadata": {},
   "outputs": [],
   "source": [
    "# cnx_df['rate'] = cnx_df['rate'].apply(rate_prep)\n",
    "# cnx_df['stay'] = cnx_df['stay'].apply(stay_prep)\n",
    "# cnx_df['triptype'] = cnx_df['triptype'].apply(triptype_prep)\n",
    "# cnx_df['review'] = cnx_df['review'].apply(review_prep)\n",
    "# cnx_df['origin'] = cnx_df['origin'].apply(review_origin)"
   ]
  },
  {
   "cell_type": "code",
   "execution_count": null,
   "metadata": {},
   "outputs": [],
   "source": [
    "# cnx_df['origin'][0].split(' contributions')[0].rstrip('0123456789')"
   ]
  },
  {
   "cell_type": "code",
   "execution_count": null,
   "metadata": {},
   "outputs": [],
   "source": [
    "# cnx_df['review'][0]"
   ]
  },
  {
   "cell_type": "code",
   "execution_count": null,
   "metadata": {},
   "outputs": [],
   "source": [
    "# cnx_df.head(20)"
   ]
  }
 ],
 "metadata": {
  "kernelspec": {
   "display_name": "Python 3.9.1 64-bit",
   "language": "python",
   "name": "python3"
  },
  "language_info": {
   "codemirror_mode": {
    "name": "ipython",
    "version": 3
   },
   "file_extension": ".py",
   "mimetype": "text/x-python",
   "name": "python",
   "nbconvert_exporter": "python",
   "pygments_lexer": "ipython3",
   "version": "3.9.1"
  },
  "orig_nbformat": 4,
  "vscode": {
   "interpreter": {
    "hash": "763b8da4a79ad11e4f32e866ced499328a337549e2659251c34b52d077063d81"
   }
  }
 },
 "nbformat": 4,
 "nbformat_minor": 2
}
